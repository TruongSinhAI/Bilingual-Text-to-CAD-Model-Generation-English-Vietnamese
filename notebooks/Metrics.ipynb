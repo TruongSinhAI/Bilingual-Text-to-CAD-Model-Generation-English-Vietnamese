{
 "cells": [
  {
   "cell_type": "code",
   "execution_count": 1,
   "id": "3eb324bc-451d-4ca2-b2ea-fe667c6c5990",
   "metadata": {},
   "outputs": [],
   "source": [
    "import sys\n",
    "import os\n",
    "\n",
    "# Giả sử bạn đang ở: /path/to/projects/notebooks\n",
    "# Ta thêm thư mục Text2CAD vào sys.path\n",
    "project_root = os.path.abspath(os.path.join(os.getcwd(), '../Text2CAD'))\n",
    "sys.path.append(project_root)\n"
   ]
  },
  {
   "cell_type": "code",
   "execution_count": 2,
   "id": "4de1ae22-f6db-4d79-9a4c-ec8cf8bb1ef8",
   "metadata": {
    "editable": true,
    "slideshow": {
     "slide_type": ""
    },
    "tags": []
   },
   "outputs": [],
   "source": [
    "import json\n",
    "import pandas as pd\n",
    "import numpy as np\n",
    "import torch\n",
    "from CadSeqProc.cad_sequence import CADSequence\n",
    "from CadSeqProc.utility.utils import normalize_pc, chamfer_dist\n",
    "from CadSeqProc.utility.macro import CAD_CLASS_INFO, N_BIT\n",
    "from CadSeqProc.utility.utils import (create_path_with_time,ensure_dir)\n",
    "import os\n",
    "from tqdm import tqdm\n",
    "import json\n",
    "import math\n",
    "from collections import defaultdict\n",
    "from datasets import load_dataset"
   ]
  },
  {
   "cell_type": "code",
   "execution_count": 2,
   "id": "aecf5270-a013-4651-b17f-0c944beeb6a1",
   "metadata": {},
   "outputs": [],
   "source": [
    "# '''Read data from jsonl'''\n",
    "# def read_data(path):\n",
    "#     print(f\"Reading data from {path}\")\n",
    "\n",
    "#     try:\n",
    "#         with open(path, 'r', encoding='utf-8') as f:\n",
    "#             jsonl_data = [json.loads(line) for line in f]\n",
    "#     except FileNotFoundError:\n",
    "#         print(f\"Error: Input file not found at {path}\")\n",
    "#     return jsonl_data"
   ]
  },
  {
   "cell_type": "code",
   "execution_count": 5,
   "id": "b615d1c1-6639-4826-94b3-aa5f0cb3dad6",
   "metadata": {},
   "outputs": [],
   "source": [
    "# # path = 'predictions_qwen25_1-6150.jsonl'\n",
    "# # path = 'predictions_llama.jsonl'\n",
    "# path = '../llama/predictions_llama_en.jsonl'\n",
    "# # path = '../llama/vi/predictions_llama_vi.jsonl'\n",
    "# path = '../qwen/predictions_qwen_1.5B_Instruct_en_0-100.jsonl'\n",
    "# data = read_data(path)"
   ]
  },
  {
   "cell_type": "code",
   "execution_count": 3,
   "id": "0c5fcb8f-ffeb-4866-8fca-49fce50a23bc",
   "metadata": {},
   "outputs": [],
   "source": [
    "d = load_dataset(\"wanhin/test_reasoning_1_2e\")\n"
   ]
  },
  {
   "cell_type": "code",
   "execution_count": 4,
   "id": "5b3938e9-d003-49e5-99d8-52b8ba7c9efe",
   "metadata": {},
   "outputs": [
    {
     "data": {
      "text/plain": [
       "DatasetDict({\n",
       "    no_sampling_en_0_1325: Dataset({\n",
       "        features: ['uid', 'input', 'reasoning', 'predicted_output', 'ground_truth_output'],\n",
       "        num_rows: 1325\n",
       "    })\n",
       "    no_sampling_en_1325_2650: Dataset({\n",
       "        features: ['uid', 'input', 'reasoning', 'predicted_output', 'ground_truth_output'],\n",
       "        num_rows: 1325\n",
       "    })\n",
       "    no_sampling_en_5300_6625: Dataset({\n",
       "        features: ['uid', 'input', 'reasoning', 'predicted_output', 'ground_truth_output'],\n",
       "        num_rows: 1325\n",
       "    })\n",
       "    no_sampling_en_3975_5300: Dataset({\n",
       "        features: ['uid', 'input', 'reasoning', 'predicted_output', 'ground_truth_output'],\n",
       "        num_rows: 1325\n",
       "    })\n",
       "    no_sampling_en_2650_3975: Dataset({\n",
       "        features: ['uid', 'input', 'reasoning', 'predicted_output', 'ground_truth_output'],\n",
       "        num_rows: 1325\n",
       "    })\n",
       "    no_sampling_en_6625_7924: Dataset({\n",
       "        features: ['uid', 'input', 'reasoning', 'predicted_output', 'ground_truth_output'],\n",
       "        num_rows: 1299\n",
       "    })\n",
       "    no_sampling_vi_0_2700: Dataset({\n",
       "        features: ['uid', 'input', 'reasoning', 'predicted_output', 'ground_truth_output'],\n",
       "        num_rows: 2700\n",
       "    })\n",
       "    no_sampling_vi_2700_3200: Dataset({\n",
       "        features: ['uid', 'input', 'reasoning', 'predicted_output', 'ground_truth_output'],\n",
       "        num_rows: 500\n",
       "    })\n",
       "})"
      ]
     },
     "execution_count": 4,
     "metadata": {},
     "output_type": "execute_result"
    }
   ],
   "source": [
    "d"
   ]
  },
  {
   "cell_type": "code",
   "execution_count": 5,
   "id": "592aca6d-9f81-4cfe-9948-338b0271229d",
   "metadata": {},
   "outputs": [
    {
     "name": "stdout",
     "output_type": "stream",
     "text": [
      "7924\n",
      "3200\n"
     ]
    }
   ],
   "source": [
    "data_en = []\n",
    "data_vi = []\n",
    "for split in d:\n",
    "    if split.startswith('no_sampling_en'):\n",
    "        data_en.extend(d[split])\n",
    "    else:\n",
    "        data_vi.extend(d[split])\n",
    "    # data.extend(d[split])    \n",
    "print(len(data_en))\n",
    "print(len(data_vi))"
   ]
  },
  {
   "cell_type": "code",
   "execution_count": 9,
   "id": "09777766-9fcf-46e8-a137-77237c90adce",
   "metadata": {},
   "outputs": [
    {
     "data": {
      "text/plain": [
       "185"
      ]
     },
     "execution_count": 9,
     "metadata": {},
     "output_type": "execute_result"
    }
   ],
   "source": [
    "x = 0\n",
    "data = []\n",
    "for r in data_en:\n",
    "    if r['predicted_output'] == '':\n",
    "        x+=1\n",
    "        continue\n",
    "    try:\n",
    "        h = json.loads(r['predicted_output'].replace(\"'\", '\"'))\n",
    "    except:\n",
    "        x += 1\n",
    "        continue\n",
    "\n",
    "    data.append(r)\n",
    "x\n",
    "    "
   ]
  },
  {
   "cell_type": "code",
   "execution_count": 5,
   "id": "dc238ac9-9fe5-4812-8bbd-83c63e9e6438",
   "metadata": {},
   "outputs": [
    {
     "data": {
      "text/plain": [
       "72"
      ]
     },
     "execution_count": 5,
     "metadata": {},
     "output_type": "execute_result"
    }
   ],
   "source": [
    "# x = 0\n",
    "# data = []\n",
    "# for r in d['no_sampling_446600_448600']:\n",
    "#     if r['predicted_output'] =='':\n",
    "#         x+= 1\n",
    "#     else:\n",
    "#         data.append(r)\n",
    "# x"
   ]
  },
  {
   "cell_type": "code",
   "execution_count": 7,
   "id": "1ce791a4-cbf6-49b1-8e5a-a7e9442d022b",
   "metadata": {},
   "outputs": [
    {
     "name": "stdout",
     "output_type": "stream",
     "text": [
      "950   -   978\n"
     ]
    }
   ],
   "source": [
    "# data_en = []\n",
    "# data_vi = []\n",
    "# for r in data:\n",
    "#     if 'Suy' in r['reasoning']:\n",
    "#         data_vi.append(r)\n",
    "#     else:\n",
    "#         data_en.append(r)\n",
    "# print(len(data_en), '  -  ', len(data_vi))"
   ]
  },
  {
   "cell_type": "code",
   "execution_count": 17,
   "id": "61a15ad3-7a53-4f99-b4aa-bc0ede091e97",
   "metadata": {},
   "outputs": [],
   "source": [
    "data = [_ for _ in d[\"no_sampling_en\"]]"
   ]
  },
  {
   "cell_type": "code",
   "execution_count": 10,
   "id": "8491ee4e-675d-4797-a4bf-43e86123da62",
   "metadata": {},
   "outputs": [
    {
     "data": {
      "text/plain": [
       "7739"
      ]
     },
     "execution_count": 10,
     "metadata": {},
     "output_type": "execute_result"
    }
   ],
   "source": [
    "len(data)"
   ]
  },
  {
   "cell_type": "code",
   "execution_count": 23,
   "id": "84c40940-2d49-42e3-9774-b73c169bba9f",
   "metadata": {},
   "outputs": [],
   "source": [
    "# haizz = d['no_sampling_en']\n",
    "# s = {}\n",
    "# for sample in haizz:\n",
    "#     s[sample['uid']] = sample['ground_truth_output']"
   ]
  },
  {
   "cell_type": "code",
   "execution_count": 24,
   "id": "a8117e08-9b62-444e-b924-e748a595cb59",
   "metadata": {},
   "outputs": [],
   "source": [
    "# h = []\n",
    "# for sample in data:\n",
    "#     uid = list(sample.keys())[0]\n",
    "#     val = list(sample.values())[0][0].split('### Response:')[1].replace('<|endoftext|>','')\n",
    "#     new = {\n",
    "#         'uid': uid,\n",
    "#         'ground_truth_output': s[uid],\n",
    "#         'predicted_output': val\n",
    "#     }\n",
    "#     h.append(new)"
   ]
  },
  {
   "cell_type": "code",
   "execution_count": 25,
   "id": "2a348ade-813d-465d-ac0f-a5c79a9dfd89",
   "metadata": {},
   "outputs": [],
   "source": [
    "# data = h"
   ]
  },
  {
   "cell_type": "code",
   "execution_count": 14,
   "id": "651f6974-f3ec-445f-915d-0ca429ca965d",
   "metadata": {
    "scrolled": true
   },
   "outputs": [
    {
     "name": "stderr",
     "output_type": "stream",
     "text": [
      "Processing samples: 100%|██████████████████████████████████████████████████████████| 7739/7739 [19:27<00:00,  6.63it/s]\n"
     ]
    },
    {
     "data": {
      "text/plain": [
       "40"
      ]
     },
     "execution_count": 14,
     "metadata": {},
     "output_type": "execute_result"
    }
   ],
   "source": [
    "error = 0\n",
    "output_data = {} \n",
    "error_samples = []\n",
    "n = []\n",
    "level = 'expert'\n",
    "error_gt = 0\n",
    "for sample in tqdm(data, desc=\"Processing samples\"):\n",
    "    uid = sample['uid']\n",
    "    \n",
    "    if uid not in output_data:\n",
    "        output_data[uid] = {}\n",
    "        \n",
    "    if level not in output_data[uid]:\n",
    "        output_data[uid][level] = {}\n",
    "        \n",
    "    try:\n",
    "        try:\n",
    "            gt_cad = CADSequence.from_minimal_json(json.loads(sample['ground_truth_output'].replace(\"'\",'\"'))).create_cad_model().sample_points(n_points=8192)\n",
    "        except:\n",
    "            try:\n",
    "                zzz = json.loads(sample['ground_truth_output'].replace(\"'\",'\"')[:-1])\n",
    "                gt_cad = CADSequence.from_minimal_json(zzz).create_cad_model().sample_points(n_points=8192)\n",
    "            except Exception as e:\n",
    "                error_gt += 1\n",
    "                continue\n",
    "\n",
    "            \n",
    "        pred_cad = CADSequence.from_minimal_json(json.loads(sample['predicted_output'].replace(\"'\",'\"'))).create_cad_model().sample_points(n_points=8192)\n",
    "        # gt_cad.sample_points(n_points=8192)\n",
    "        # pred_cad.sample_points(n_points=8192)\n",
    "\n",
    "        cd = (\n",
    "            chamfer_dist(\n",
    "                normalize_pc(gt_cad.points),\n",
    "                normalize_pc(pred_cad.points),\n",
    "            )\n",
    "            * 1000\n",
    "        )\n",
    "        is_invalid = False\n",
    "    except Exception as e:\n",
    "        cd = -1\n",
    "        is_invalid = True\n",
    "        error += 1\n",
    "        error_samples.append(sample)\n",
    "        n.append(e)\n",
    "        pred_cad = None\n",
    "    output_data[uid][level]['pred_cad_vec'] = [pred_cad] # Store as a list with one element\n",
    "    output_data[uid][level]['gt_cad_vec'] = gt_cad      # Store GT vector\n",
    "    output_data[uid][level]['cd'] = [cd]                # Store CD as a list with one element\n",
    "    output_data[uid][level]['is_invalid'] = is_invalid  # Store the invalidity flag\n",
    "len(error_samples)"
   ]
  },
  {
   "cell_type": "code",
   "execution_count": 15,
   "id": "89aca4f5-ad81-4166-9126-389b1e8c2978",
   "metadata": {},
   "outputs": [
    {
     "data": {
      "text/plain": [
       "{OSError('File not written to disk on path .temp_159392.stl'),\n",
       " OSError('File not written to disk on path .temp_426516.stl'),\n",
       " OSError('File not written to disk on path .temp_466882.stl'),\n",
       " OSError('File not written to disk on path .temp_515810.stl'),\n",
       " OSError('File not written to disk on path .temp_67992.stl'),\n",
       " OSError('File not written to disk on path .temp_978225.stl'),\n",
       " Exception('Invalid Model'),\n",
       " Exception('Invalid Model'),\n",
       " Exception('Invalid Model'),\n",
       " Exception('Invalid Model'),\n",
       " Exception('Invalid Model'),\n",
       " Exception('Invalid Model'),\n",
       " Exception('Invalid Model'),\n",
       " Exception('Invalid Model'),\n",
       " Exception('Invalid Model'),\n",
       " Exception('Invalid Model'),\n",
       " Exception('Invalid Model'),\n",
       " Exception('Invalid Model'),\n",
       " Exception('Invalid Model'),\n",
       " Exception('Invalid Model'),\n",
       " Exception('Invalid Model'),\n",
       " Exception('Invalid Model'),\n",
       " Exception('Invalid Model'),\n",
       " Exception('Invalid Model'),\n",
       " Exception('Invalid Model'),\n",
       " Exception('Invalid Model'),\n",
       " Exception('Invalid Model'),\n",
       " Exception('Invalid Model'),\n",
       " Exception('Invalid Model'),\n",
       " Exception('Invalid Model'),\n",
       " Exception('Invalid Model'),\n",
       " Exception('Invalid Model'),\n",
       " Exception('Invalid Model'),\n",
       " Exception('Invalid Model'),\n",
       " Exception('Invalid Model'),\n",
       " Exception('Invalid Model'),\n",
       " Exception('Invalid Model'),\n",
       " Exception('Invalid Model'),\n",
       " Exception('No Cad Model generated'),\n",
       " TypeError(\"Wrong number or type of arguments for overloaded function 'new_BRepAlgoAPI_Cut'.\\n  Possible C/C++ prototypes are:\\n    BRepAlgoAPI_Cut::BRepAlgoAPI_Cut()\\n    BRepAlgoAPI_Cut::BRepAlgoAPI_Cut(BOPAlgo_PaveFiller const &)\\n    BRepAlgoAPI_Cut::BRepAlgoAPI_Cut(TopoDS_Shape const &,TopoDS_Shape const &,Message_ProgressRange const &)\\n    BRepAlgoAPI_Cut::BRepAlgoAPI_Cut(TopoDS_Shape const &,TopoDS_Shape const &,BOPAlgo_PaveFiller const &,Standard_Boolean const,Message_ProgressRange const &)\\n\")}"
      ]
     },
     "execution_count": 15,
     "metadata": {},
     "output_type": "execute_result"
    }
   ],
   "source": [
    "set(n)"
   ]
  },
  {
   "cell_type": "code",
   "execution_count": 4,
   "id": "8ff02b79-f567-4fd9-91f3-97159701c337",
   "metadata": {},
   "outputs": [],
   "source": [
    "x= {\"final_shape\": \"\", \"parts\": {\"part_1\": {\"coordinate_system\": {\"Euler Angles\": [0.0, 0.0, -90.0], \"Translation Vector\": [0.0004, 0.0171, 0.0]}, \"sketch\": {\"face_1\": {\"loop_1\": {\"line_1\": {\"Start Point\": [0.1738, 0.3831], \"End Point\": [0.1775, 0.4219]}, \"arc_1\": {\"Start Point\": [0.1775, 0.4219], \"Mid Point\": [0.0, 0.4192], \"End Point\": [0.1738, 0.3831]}}, \"loop_2\": {\"circle_1\": {\"Center\": [0.0889, 0.4107], \"Radius\": 0.0179}}}, \"face_2\": {\"loop_1\": {\"line_1\": {\"Start Point\": [0.0, 0.4018], \"End Point\": [0.0356, 0.0482]}, \"arc_1\": {\"Start Point\": [0.0356, 0.0482], \"Mid Point\": [0.1241, 0.0939], \"End Point\": [0.0908, 0.0]}, \"line_2\": {\"Start Point\": [0.0908, 0.0], \"End Point\": [0.3405, 0.009]}, \"arc_2\": {\"Start Point\": [0.3405, 0.009], \"Mid Point\": [0.2942, 0.0536], \"End Point\": [0.3405, 0.0982]}, \"line_3\": {\"Start Point\": [0.3405, 0.0982], \"End Point\": [0.1948, 0.1034]}, \"arc_3\": {\"Start Point\": [0.1948, 0.1034], \"Mid Point\": [0.1627, 0.1186], \"End Point\": [0.1518, 0.1523]}, \"line_4\": {\"Start Point\": [0.1518, 0.1523], \"End Point\": [0.1738, 0.3831]}, \"arc_4\": {\"Start Point\": [0.1738, 0.3831], \"Mid Point\": [0.0793, 0.3219], \"End Point\": [0.0, 0.4018]}}}, \"face_3\": {\"loop_1\": {\"arc_1\": {\"Start Point\": [0.0003, 0.4219], \"Mid Point\": [0.0889, 0.5], \"End Point\": [0.1775, 0.4219]}, \"line_1\": {\"Start Point\": [0.1775, 0.4219], \"End Point\": [0.142, 0.7031]}, \"arc_2\": {\"Start Point\": [0.142, 0.7031], \"Mid Point\": [0.0889, 0.6429], \"End Point\": [0.0357, 0.7031]}, \"line_2\": {\"Start Point\": [0.0357, 0.7031], \"End Point\": [0.0003, 0.4219]}}, \"loop_2\": {\"circle_1\": {\"Center\": [0.071, 0.6161], \"Radius\": 0.0179}}}, \"face_4\": {\"loop_1\": {\"circle_1\": {\"Center\": [0.0889, 0.0536], \"Radius\": 0.0536}}, \"loop_2\": {\"circle_1\": {\"Center\": [0.0889, 0.0536], \"Radius\": 0.0179}}}, \"face_5\": {\"loop_1\": {\"circle_1\": {\"Center\": [0.0889, 0.6964], \"Radius\": 0.0536}}, \"loop_2\": {\"circle_1\": {\"Center\": [0.0889, 0.6964], \"Radius\": 0.0179}}}, \"face_6\": {\"loop_1\": {\"line_1\": {\"Start Point\": [0.1738, 0.3831], \"End Point\": [0.1775, 0.4219]}, \"arc_1\": {\"Start Point\": [0.1775, 0.4219], \"Mid Point\": [0.1778, 0.4023], \"End Point\": [0.1738, 0.3831]}}}, \"face_7\": {\"loop_1\": {\"circle_1\": {\"Center\": [0.3389, 0.0536], \"Radius\": 0.0446}}, \"loop_2\": {\"circle_1\": {\"Center\": [0.3389, 0.0536], \"Radius\": 0.0179}}}}, \"extrusion\": {\"extrude_depth_towards_normal\": 0.0171, \"extrude_depth_opposite_normal\": 0.0, \"sketch_scale\": 0.75, \"operation\": \"NewBodyFeatureOperation\"}, \"description\": {\"shape\": \"\", \"length\": 0.75, \"width\": 0.0171, \"height\": 0.75}}}}\n"
   ]
  },
  {
   "cell_type": "code",
   "execution_count": 5,
   "id": "09dd8e03-8b0f-45d7-bdd2-12b77133240e",
   "metadata": {},
   "outputs": [],
   "source": [
    "y= {\"final_shape\": \"\", \"parts\": {\"part_1\": {\"coordinate_system\": {\"Euler Angles\": [0.0, 0.0, -90.0], \"Translation Vector\": [0.0004, 0.0171, 0.0]}, \"sketch\": {\"face_1\": {\"loop_1\": {\"line_1\": {\"Start Point\": [0.1738, 0.3831], \"End Point\": [0.1775, 0.4219]}, \"arc_1\": {\"Start Point\": [0.1775, 0.4219], \"Mid Point\": [0.0, 0.4192], \"End Point\": [0.1738, 0.3831]}}, \"loop_2\": {\"circle_1\": {\"Center\": [0.0889, 0.4107], \"Radius\": 0.0179}}}, \"face_2\": {\"loop_1\": {\"line_1\": {\"Start Point\": [0.0, 0.4018], \"End Point\": [0.0356, 0.0482]}, \"arc_1\": {\"Start Point\": [0.0356, 0.0482], \"Mid Point\": [0.1241, 0.0939], \"End Point\": [0.0908, 0.0]}, \"line_2\": {\"Start Point\": [0.0908, 0.0], \"End Point\": [0.3405, 0.009]}, \"arc_2\": {\"Start Point\": [0.3405, 0.009], \"Mid Point\": [0.2942, 0.0536], \"End Point\": [0.3405, 0.0982]}, \"line_3\": {\"Start Point\": [0.3405, 0.0982], \"End Point\": [0.1948, 0.1034]}, \"arc_3\": {\"Start Point\": [0.1948, 0.1034], \"Mid Point\": [0.1627, 0.1186], \"End Point\": [0.1518, 0.1523]}, \"line_4\": {\"Start Point\": [0.1518, 0.1523], \"End Point\": [0.1738, 0.3831]}, \"arc_4\": {\"Start Point\": [0.1738, 0.3831], \"Mid Point\": [0.0793, 0.3219], \"End Point\": [0.0, 0.4018]}}}, \"face_3\": {\"loop_1\": {\"arc_1\": {\"Start Point\": [0.0003, 0.4219], \"Mid Point\": [0.0889, 0.5], \"End Point\": [0.1775, 0.4219]}, \"line_1\": {\"Start Point\": [0.1775, 0.4219], \"End Point\": [0.142, 0.7031]}, \"arc_2\": {\"Start Point\": [0.142, 0.7031], \"Mid Point\": [0.0889, 0.6429], \"End Point\": [0.0357, 0.7031]}, \"line_2\": {\"Start Point\": [0.0357, 0.7031], \"End Point\": [0.0003, 0.4219]}}, \"loop_2\": {\"circle_1\": {\"Center\": [0.071, 0.6161], \"Radius\": 0.0179}}}, \"face_4\": {\"loop_1\": {\"circle_1\": {\"Center\": [0.0889, 0.6964], \"Radius\": 0.0536}}, \"loop_2\": {\"circle_1\": {\"Center\": [0.0889, 0.6964], \"Radius\": 0.0179}}}, \"face_5\": {\"loop_1\": {\"circle_1\": {\"Center\": [0.0889, 0.0536], \"Radius\": 0.0179}}, \"loop_2\": {\"arc_1\": {\"Start Point\": [0.0889, 0.0], \"Mid Point\": [0.0869, 0.1071], \"End Point\": [0.0908, 0.0]}, \"line_1\": {\"Start Point\": [0.0908, 0.0], \"End Point\": [0.0889, 0.0]}}}, \"face_6\": {\"loop_1\": {\"arc_1\": {\"Start Point\": [0.0889, 0.0], \"Mid Point\": [0.0905, 0.0], \"End Point\": [0.0908, 0.0]}, \"line_1\": {\"Start Point\": [0.0908, 0.0], \"End Point\": [0.0889, 0.0]}}}, \"face_7\": {\"loop_1\": {\"circle_1\": {\"Center\": [0.3389, 0.0536], \"Radius\": 0.0446}}, \"loop_2\": {\"circle_1\": {\"Center\": [0.3389, 0.0536], \"Radius\": 0.0179}}}}, \"extrusion\": {\"extrude_depth_towards_normal\": 0.0171, \"extrude_depth_opposite_normal\": 0.0, \"sketch_scale\": 0.75, \"operation\": \"NewBodyFeatureOperation\"}, \"description\": {\"shape\": \"\", \"length\": 0.75, \"width\": 0.0171, \"height\": 0.75}}}}\n"
   ]
  },
  {
   "cell_type": "code",
   "execution_count": 13,
   "id": "3824e67e-da63-4a3f-a440-6d7663cd253b",
   "metadata": {},
   "outputs": [],
   "source": [
    "# u = {\"parts\":{\"part_1\":{\"coordinate_system\":{\"Euler Angles\":[0.0,0.0,-90.0],\"Translation Vector\":[0.0,0.1432,0.0]},\"sketch\":{\"face_1\":{\"loop_1\":{\"circle_1\":{\"Center\":[0.0895,0.4099],\"Radius\":0.0895}},\"loop_2\":{\"circle_1\":{\"Center\":[0.0895,0.4099],\"Radius\":0.0179}}},\"face_2\":{\"loop_1\":{\"line_1\":{\"Start Point\":[0.0005,0.4005],\"End Point\":[0.0375,0.052]},\"arc_1\":{\"Start Point\":[0.0375,0.052],\"Mid Point\":[0.1252,0.0898],\"End Point\":[0.0925,0.0001]},\"line_2\":{\"Start Point\":[0.0925,0.0001],\"End Point\":[0.3414,0.0072]},\"arc_2\":{\"Start Point\":[0.3414,0.0072],\"Mid Point\":[0.2953,0.0513],\"End Point\":[0.3401,0.0967]},\"line_3\":{\"Start Point\":[0.3401,0.0967],\"End Point\":[0.2238,0.0967]},\"arc_3\":{\"Start Point\":[0.2238,0.0967],\"Mid Point\":[0.1921,0.1098],\"End Point\":[0.179,0.1415]},\"line_4\":{\"Start Point\":[0.179,0.1415],\"End Point\":[0.179,0.4099]},\"arc_4\":{\"Start Point\":[0.179,0.4099],\"Mid Point\":[0.0942,0.3206],\"End Point\":[0.0005,0.4005]}}},\"face_3\":{\"loop_1\":{\"arc_1\":{\"Start Point\":[0.0007,0.4213],\"Mid Point\":[0.0896,0.4994],\"End Point\":[0.1783,0.4211]},\"line_1\":{\"Start Point\":[0.1783,0.4211],\"End Point\":[0.1428,0.703]},\"arc_2\":{\"Start Point\":[0.1428,0.703],\"Mid Point\":[0.0929,0.6427],\"End Point\":[0.0358,0.6963]},\"line_2\":{\"Start Point\":[0.0358,0.6963],\"End Point\":[0.0007,0.4213]}},\"loop_2\":{\"circle_1\":{\"Center\":[0.0716,0.6158],\"Radius\":0.0179}}},\"face_4\":{\"loop_1\":{\"circle_1\":{\"Center\":[0.0895,0.6963],\"Radius\":0.0537}},\"loop_2\":{\"circle_1\":{\"Center\":[0.0895,0.6963],\"Radius\":0.0179}}},\"face_5\":{\"loop_1\":{\"circle_1\":{\"Center\":[0.0895,0.052],\"Radius\":0.0179}},\"loop_2\":{\"arc_1\":{\"Start Point\":[0.0895,0.0],\"Mid Point\":[0.088,0.1039],\"End Point\":[0.0925,0.0001]},\"line_1\":{\"Start Point\":[0.0925,0.0001],\"End Point\":[0.0895,0.0]}}},\"face_6\":{\"loop_1\":{\"arc_1\":{\"Start Point\":[0895,0.0],\"Mid Point\":[0.091,0.0],\"End Point\":[0.0925,0.0001]},\"line_1\":{\"Start Point\":[0.0925,0.0001],\"End Point\":[0.0895,0.0]}},\"loop_2\":{\"circle_1\":{\"Center\":[0.0895,0.052],\"Radius\":0.0179}}},\"face_7\":{\"loop_1\":{\"circle_1\":{\"Center\":[0.3401,0.052],\"Radius\":0.0447}},\"loop_2\":{\"circle_1\":{\"Center\":[0.3401,0.052],\"Radius\":0.0179}}}},\"extrusion\":{\"extrude_depth_towards_normal\":0.1432,\"extrude_depth_opposite_normal\":0.0,\"sketch_scale\":0.75,\"operation\":\"NewBodyFeatureOperation\"}}}}\n"
   ]
  },
  {
   "cell_type": "code",
   "execution_count": 43,
   "id": "07f66e14-d1ea-4e4c-a1b5-ffe26a7c8085",
   "metadata": {
    "jupyter": {
     "source_hidden": true
    }
   },
   "outputs": [
    {
     "name": "stdout",
     "output_type": "stream",
     "text": [
      "Shape của đám mây điểm ground-truth: (8192, 3)\n",
      "Shape của đám mây điểm dự đoán: (8192, 3)\n",
      "\n",
      "Giá trị Earth Mover's Distance (EMD) là: 0.000750\n"
     ]
    }
   ],
   "source": [
    "### EMD \n",
    "import numpy as np\n",
    "import ot # Đây là thư viện POT\n",
    "\n",
    "def calculate_emd(pc1, pc2):\n",
    "    \"\"\"\n",
    "    Tính toán Earth Mover's Distance (EMD) giữa hai đám mây điểm.\n",
    "\n",
    "    Args:\n",
    "        pc1 (np.ndarray): Đám mây điểm thứ nhất, shape (N, 3).\n",
    "        pc2 (np.ndarray): Đám mây điểm thứ hai, shape (M, 3).\n",
    "                          Lý tưởng nhất là N = M.\n",
    "\n",
    "    Returns:\n",
    "        float: Giá trị EMD (càng thấp càng tốt).\n",
    "    \"\"\"\n",
    "    # EMD yêu cầu các phân bố (weights) cho mỗi điểm.\n",
    "    # Với đám mây điểm đồng nhất, mỗi điểm có trọng số bằng nhau.\n",
    "    n_points1 = pc1.shape[0]\n",
    "    n_points2 = pc2.shape[0]\n",
    "    \n",
    "    # Phân bố trọng số cho đám mây điểm 1 (tổng bằng 1)\n",
    "    a = np.ones(n_points1) / n_points1\n",
    "    \n",
    "    # Phân bố trọng số cho đám mây điểm 2 (tổng bằng 1)\n",
    "    b = np.ones(n_points2) / n_points2\n",
    "\n",
    "    # Tính toán ma trận chi phí (Cost Matrix).\n",
    "    # M[i, j] là chi phí để \"di chuyển\" điểm i từ pc1 đến điểm j ở pc2.\n",
    "    # Chi phí này thường là khoảng cách bình phương Euclid (squared Euclidean distance).\n",
    "    # Thư viện POT có hàm ot.dist() để tính toán việc này một cách hiệu quả.\n",
    "    M = ot.dist(pc1, pc2, metric='sqeuclidean')\n",
    "\n",
    "    # Tính toán EMD. ot.emd2 trả về tổng chi phí vận chuyển.\n",
    "    # Đây chính là giá trị EMD mà chúng ta cần.\n",
    "    emd_value = ot.emd2(a, b, M)\n",
    "\n",
    "    return emd_value\n",
    "\n",
    "# --- VÍ DỤ SỬ DỤNG ---\n",
    "if __name__ == '__main__':\n",
    "\n",
    "    index = 1000\n",
    "    gt = json.loads(data[index]['ground_truth_output'])\n",
    "    pr = json.loads(data[100]['predicted_output'].replace(\"'\", '\"'))\n",
    "    ground_truth_cad = CADSequence.from_minimal_json(gt).create_cad_model().sample_points(n_points = 8192, type= 'uniform')\n",
    "    predicted_cad = CADSequence.from_minimal_json(gt).create_cad_model().sample_points(n_points = 8192, type= 'uniform')\n",
    "\n",
    "    \n",
    "    # Đám mây điểm ground-truth (ví dụ: một khối lập phương)\n",
    "    ground_truth_pc = normalize_pc(ground_truth_cad.points)\n",
    "    \n",
    "    # Đám mây điểm dự đoán (ví dụ: một khối lập phương bị dịch đi một chút)\n",
    "    predicted_pc = normalize_pc(predicted_cad.points)\n",
    "\n",
    "    print(f\"Shape của đám mây điểm ground-truth: {ground_truth_pc.shape}\")\n",
    "    print(f\"Shape của đám mây điểm dự đoán: {predicted_pc.shape}\")\n",
    "\n",
    "    # Tính EMD\n",
    "    emd_distance = calculate_emd(ground_truth_pc, predicted_pc)\n",
    "\n",
    "    print(f\"\\nGiá trị Earth Mover's Distance (EMD) là: {emd_distance:.6f}\")\n"
   ]
  },
  {
   "cell_type": "code",
   "execution_count": 41,
   "id": "cf4506e1-4173-4692-ad5a-4c3236701c84",
   "metadata": {},
   "outputs": [
    {
     "data": {
      "text/plain": [
       "0.10943067841697889"
      ]
     },
     "execution_count": 41,
     "metadata": {},
     "output_type": "execute_result"
    }
   ],
   "source": [
    "sum(emd_result * 100 )/len(emd_result)"
   ]
  },
  {
   "cell_type": "code",
   "execution_count": 42,
   "id": "057f9e7a-b217-49f9-825a-ec23c9198620",
   "metadata": {},
   "outputs": [
    {
     "data": {
      "text/plain": [
       "0.20224423093909216"
      ]
     },
     "execution_count": 42,
     "metadata": {},
     "output_type": "execute_result"
    }
   ],
   "source": [
    "sum(cd_result )/len(cd_result)"
   ]
  },
  {
   "cell_type": "code",
   "execution_count": null,
   "id": "0139ecc5-8ccf-4d75-9f3b-17554c220755",
   "metadata": {},
   "outputs": [],
   "source": [
    "print(sum(emd_result2 * 100 )/len(emd_result))\n",
    "print(sum(cd_result2)/len(cd_result))"
   ]
  },
  {
   "cell_type": "code",
   "execution_count": null,
   "id": "59edff27-408e-4fae-b286-1f0aa5baa2b9",
   "metadata": {},
   "outputs": [
    {
     "name": "stderr",
     "output_type": "stream",
     "text": [
      " 70%|██████████████████████████████████████████████████████████                         | 7/10 [01:23<00:36, 12.32s/it]"
     ]
    }
   ],
   "source": [
    "cd_result2 = []\n",
    "emd_result2 = []\n",
    "for row in tqdm(data[:10]):\n",
    "    gt = json.loads(data[index]['ground_truth_output'])\n",
    "    pt = json.loads(data[index]['predicted_output'])\n",
    "    ground_truth_cad = CADSequence.from_minimal_json(gt).create_cad_model().sample_points(n_points = 8192, type= 'uniform')\n",
    "    ground_truth_pc = normalize_pc(ground_truth_cad.points)\n",
    "    predict_cad = CADSequence.from_minimal_json(pt).create_cad_model().sample_points(n_points = 8192, type= 'uniform')\n",
    "    predict_pc = normalize_pc(predict_cad.points)\n",
    "    emd = calculate_emd(ground_truth_pc, predict_pc)\n",
    "    cd = (\n",
    "            chamfer_dist(\n",
    "                ground_truth_pc,\n",
    "                predict_pc,\n",
    "            )\n",
    "            * 1000\n",
    "        )\n",
    "    \n",
    "    cd_result2.append(cd)\n",
    "    emd_result2.append(emd)\n",
    "\n",
    "    "
   ]
  },
  {
   "cell_type": "code",
   "execution_count": 25,
   "id": "870523b7-79f1-4663-9db6-dc99f828697f",
   "metadata": {},
   "outputs": [
    {
     "name": "stdout",
     "output_type": "stream",
     "text": [
      "Giá trị EMD cho một mô hình tệ là: 0.282909 (lớn hơn đáng kể)\n"
     ]
    }
   ],
   "source": [
    "random_pc = np.random.rand(8192, 3)\n",
    "bad_emd_distance = calculate_emd(ground_truth_pc, random_pc)\n",
    "print(f\"Giá trị EMD cho một mô hình tệ là: {bad_emd_distance:.6f} (lớn hơn đáng kể)\")"
   ]
  },
  {
   "cell_type": "code",
   "execution_count": 7,
   "id": "e03e1b36-eb33-437f-8bc6-1a0a8114dca3",
   "metadata": {
    "scrolled": true
   },
   "outputs": [
    {
     "data": {
      "text/plain": [
       "0.03992338241797718"
      ]
     },
     "execution_count": 7,
     "metadata": {},
     "output_type": "execute_result"
    }
   ],
   "source": [
    "# output_data = {}\n",
    "# g = CADSequence.from_minimal_json(x).create_cad_model().sample_points(n_points = 8192, type= 'uniform')\n",
    "h = CADSequence.from_minimal_json(x).create_cad_model()\n",
    "h = h.sample_points(n_points = 8192, type= 'uniform')\n",
    "g = CADSequence.from_minimal_json(x).create_cad_model()\n",
    "g = g.sample_points(n_points = 8192, type= 'uniform')\n",
    "# g.sample_points()\n",
    "# h.sample_points()\n",
    "cd = (\n",
    "            chamfer_dist(\n",
    "                normalize_pc(h.points),\n",
    "                normalize_pc(g.points),\n",
    "            )\n",
    "            * 1000\n",
    "        )\n",
    "cd\n",
    "# output_data['1'] = {}\n",
    "# output_data['1']['expert']= {}\n",
    "# output_data['1']['expert']['pred_cad_vec'] = [h] # Store as a list with one element\n",
    "# output_data['1']['expert']['gt_cad_vec'] = g      # Store GT vector\n",
    "# output_data['1']['expert']['cd'] = [cd]                # Store CD as a list with one element\n",
    "# output_data['1']['expert']['is_invalid'] = False  # Store the invalidity flag"
   ]
  },
  {
   "cell_type": "code",
   "execution_count": 14,
   "id": "b936b549-4be6-46f3-b275-7f98bf3db5d5",
   "metadata": {
    "scrolled": true
   },
   "outputs": [],
   "source": [
    "# h.save_stp('x1', 'cad')"
   ]
  },
  {
   "cell_type": "code",
   "execution_count": 15,
   "id": "3a5f07a7-89a1-4354-9b4a-7340eeb5454b",
   "metadata": {
    "scrolled": true
   },
   "outputs": [],
   "source": [
    "# full = \"\"\n",
    "# for sample in errors:\n",
    "#     # full += f\" ##Input: {sample['input']} \\n ##output: {sample['predicted_output']} \\n ##ground_truth: {sample['ground_truth_output']} \\n ====================================\"\n",
    "    \n",
    "#     if sample['uid'] == '0054/00541629':\n",
    "#         print( '##INPUT: ', sample['input'])\n",
    "    \n",
    "#         print( '##GROUND_TRUTH: ',sample['ground_truth_output'])\n",
    "#         print('##PREDICT: ',sample['predicted_output'])"
   ]
  },
  {
   "cell_type": "code",
   "execution_count": 16,
   "id": "16197fec-22c6-4821-aa28-4949fb41ef47",
   "metadata": {},
   "outputs": [],
   "source": [
    "# with open('hehe.txt', 'w') as f:\n",
    "#     f.write(full)"
   ]
  },
  {
   "cell_type": "code",
   "execution_count": 17,
   "id": "ea95b3dd-048a-41ff-8091-6a56385150ca",
   "metadata": {
    "scrolled": true
   },
   "outputs": [],
   "source": [
    "# ans"
   ]
  },
  {
   "cell_type": "code",
   "execution_count": 18,
   "id": "eb2fea72-00c3-4aea-8fb4-d4ffc6918854",
   "metadata": {},
   "outputs": [],
   "source": [
    "# h = set([ str(_).split(',')[0] for _ in ans.values()])\n",
    "# h"
   ]
  },
  {
   "cell_type": "code",
   "execution_count": 16,
   "id": "08cad908-5369-4a71-95a7-2760ea216be6",
   "metadata": {},
   "outputs": [],
   "source": [
    "def generate_analysis_report(data,output_path,verbose,level):\n",
    "    report_df = pd.DataFrame() # Dataframe for analysis\n",
    "    # cm=np.zeros((4,4)) # Confusion Matrix\n",
    "    uids=list(data.keys())\n",
    "    c = 0\n",
    "    for uid in tqdm(uids, desc=\"Processing\"):\n",
    "        best_report_df=process_uid_(uid,data,level=level)\n",
    "        if best_report_df is not None:\n",
    "            report_df=pd.concat([report_df,best_report_df])\n",
    "        else:\n",
    "            c+= 1\n",
    "            # print(uid)\n",
    "    csv_path=os.path.join(output_path,f\"report_df_{level}.csv\")\n",
    "\n",
    "    try:\n",
    "        report_df.to_csv(csv_path, index=None)\n",
    "        # logger.success(f\"Report is saved at {csv_path}\")\n",
    "    except Exception as e:\n",
    "        # logger.error(f\"Error saving csv file at {csv_path}\")\n",
    "        # if verbose:\n",
    "        #    print(traceback.print_exc())\n",
    "        print('et_o_et')\n",
    "    print(c)\n",
    "    # if verbose:\n",
    "        # logger.info(\"Calculating Metrics...\")\n",
    "\n",
    "    eval_dict = {}\n",
    "\n",
    "    line_metrics = report_df[(report_df['line_total_gt'] > 0)][['line_recall', 'line_precision', 'line_f1']].mean() * 100\n",
    "    eval_dict['line'] = {\n",
    "        'recall': line_metrics['line_recall'],\n",
    "        'precision': line_metrics['line_precision'],\n",
    "        'f1': line_metrics['line_f1']\n",
    "    }\n",
    "\n",
    "    # Mean Recall, Precision, F1 for Arc\n",
    "    arc_metrics = report_df[(report_df['arc_total_gt'] > 0)][['arc_recall', 'arc_precision', 'arc_f1']].mean() * 100\n",
    "    eval_dict['arc'] = {\n",
    "        'recall': arc_metrics['arc_recall'],\n",
    "        'precision': arc_metrics['arc_precision'],\n",
    "        'f1': arc_metrics['arc_f1']\n",
    "    }\n",
    "\n",
    "    # Mean Recall, Precision, F1 for Circle\n",
    "    circle_metrics = report_df[(report_df['circle_total_gt'] > 0)][['circle_recall', 'circle_precision', 'circle_f1']].mean() * 100\n",
    "    eval_dict['circle'] = {\n",
    "        'recall': circle_metrics['circle_recall'],\n",
    "        'precision': circle_metrics['circle_precision'],\n",
    "        'f1': circle_metrics['circle_f1']\n",
    "    }\n",
    "\n",
    "    # Mean Recall, Precision, F1 for Extrusion\n",
    "    ext_recall = report_df['num_ext'] / report_df['num_ext_gt']\n",
    "    ext_precision = report_df['num_ext'] / report_df['num_ext_pred']\n",
    "    ext_f1 = 2 * ext_recall * ext_precision / (ext_recall + ext_precision)\n",
    "    extrusion_metrics = {\n",
    "        'recall': ext_recall.mean() * 100,\n",
    "        'precision': ext_precision.mean() * 100,\n",
    "        'f1': ext_f1.mean() * 100\n",
    "    }\n",
    "    eval_dict.update({'extrusion': extrusion_metrics})\n",
    "\n",
    "    \n",
    "    # Update Chamfer Distance\n",
    "    eval_dict['cd']={}\n",
    "    eval_dict['cd']['median']=report_df['cd'][report_df['cd']>0].median()\n",
    "    eval_dict['cd']['mean']=report_df['cd'][report_df['cd']>0].mean()\n",
    "    # eval_dict['invalidity_ratio_percentage']=report_df['cd'][report_df['cd']<0].count()*100/len(report_df)\n",
    "    eval_dict['invalidity_ratio_percentage'] = c*100/(c + len(report_df))\n",
    "    \n",
    "    if verbose:\n",
    "        json_formatted_str = json.dumps(eval_dict, indent=4)\n",
    "        print(json_formatted_str)\n",
    "\n",
    "    mean_report_path=os.path.join(output_path,f\"mean_report_{level}.json\")\n",
    "\n",
    "    with open(mean_report_path,\"w\") as f:\n",
    "        json.dump(eval_dict,f, indent=4)\n",
    "\n",
    "\n",
    "\n",
    "def process_vec(pred_vec,gt_vec,bit,uid):\n",
    "    try:\n",
    "        # pred_cad=CADSequence.from_vec(pred_vec,2,8,denumericalize=False)\n",
    "        # gt_cad=CADSequence.from_vec(gt_vec,2,8,denumericalize=False)\n",
    "\n",
    "        report_df,cm=gt_vec.generate_report(pred_vec,uid)\n",
    "        return report_df,cm\n",
    "    except Exception as e:\n",
    "        #print(e)\n",
    "        return None,None\n",
    "\n",
    "def process_uid_(uid,data,level):\n",
    "    try:\n",
    "        gt_vec = data[uid][level]['gt_cad_vec']\n",
    "        all_cd = data[uid][level]['cd']\n",
    "        best_index = 0\n",
    "        pred_vec = data[uid][level]['pred_cad_vec'][best_index]\n",
    "        df, _ = process_vec(pred_vec, gt_vec, 8, uid)\n",
    "        df['cd'] = all_cd[best_index]\n",
    "    \n",
    "        return df\n",
    "\n",
    "    except Exception as e:\n",
    "        return None"
   ]
  },
  {
   "cell_type": "code",
   "execution_count": 17,
   "id": "d3099e0f-1d3c-464c-b052-2269769d5418",
   "metadata": {},
   "outputs": [
    {
     "name": "stderr",
     "output_type": "stream",
     "text": [
      "Processing: 100%|██████████████████████████████████████████████████████████████████| 7739/7739 [05:25<00:00, 23.80it/s]\n"
     ]
    },
    {
     "name": "stdout",
     "output_type": "stream",
     "text": [
      "53\n",
      "{\n",
      "    \"line\": {\n",
      "        \"recall\": 97.47185627851643,\n",
      "        \"precision\": 98.70134649813748,\n",
      "        \"f1\": 97.7649752088584\n",
      "    },\n",
      "    \"arc\": {\n",
      "        \"recall\": 92.52729794025556,\n",
      "        \"precision\": 94.33561916494313,\n",
      "        \"f1\": 92.82269520886435\n",
      "    },\n",
      "    \"circle\": {\n",
      "        \"recall\": 96.66938802538617,\n",
      "        \"precision\": 97.38351054020345,\n",
      "        \"f1\": 96.62449869259096\n",
      "    },\n",
      "    \"extrusion\": {\n",
      "        \"recall\": 99.43841926570263,\n",
      "        \"precision\": 99.87072971265009,\n",
      "        \"f1\": 99.55408311736088\n",
      "    },\n",
      "    \"cd\": {\n",
      "        \"median\": 0.15279586143174673,\n",
      "        \"mean\": 3.7622644656349986\n",
      "    },\n",
      "    \"invalidity_ratio_percentage\": 0.6848430029719602\n",
      "}\n"
     ]
    }
   ],
   "source": [
    "output_dir=create_path_with_time('output')\n",
    "output_path=os.path.join(output_dir,'final_')\n",
    "ensure_dir(output_path)\n",
    "generate_analysis_report(data=output_data,output_path=output_path,\n",
    "                                 verbose = True, level=str(level))"
   ]
  },
  {
   "cell_type": "markdown",
   "id": "a5704bfd-25cb-474c-b726-5d7286fc8c6f",
   "metadata": {},
   "source": [
    "## TESTING"
   ]
  },
  {
   "cell_type": "code",
   "execution_count": 12,
   "id": "35b21475-ab6f-4f16-a58e-cfec044c5f35",
   "metadata": {
    "scrolled": true
   },
   "outputs": [],
   "source": [
    "# e = '''\n",
    "# {\"final_shape\": \"\", \"parts\": {\"part_1\": {\"coordinate_system\": {\"Euler Angles\": [0.0, 0.0, 0.0], \"Translation Vector\": [0.0, 0.0, 0.0]}, \"sketch\": {\"face_1\": {\"loop_1\": {\"line_1\": {\"Start Point\": [0.0, 0.0], \"End Point\": [0.5806, 0.0]}, \"line_2\": {\"Start Point\": [0.5806, 0.0], \"End Point\": [0.5806, 0.3629]}, \"line_3\": {\"Start Point\": [0.5806, 0.3629], \"End Point\": [0.0, 0.3629]}, \"line_4\": {\"Start Point\": [0.0, 0.3629], \"End Point\": [0.0, 0.0]}}, \"loop_2\": {\"circle_1\": {\"Center\": [0.2903, 0.18140000000000002], \"Radius\": 0.1667}}}}, \"extrusion\": {\"extrude_depth_towards_normal\": 0.75, \"extrude_depth_opposite_normal\": 0.0, \"sketch_scale\": 0.5806, \"operation\": \"NewBodyFeatureOperation\"}, \"description\": {\"shape\": \"\", \"length\": 0.5806130922, \"width\": 0.5806130922, \"height\": 0.75}}}}\n",
    "# '''\n",
    "# # for i in data:\n",
    "# #     if i['uid'] == '0028/00289243':\n",
    "# #         e = i['predicted_output']\n",
    "# #         break\n",
    "\n",
    "# cad_err = CADSequence.from_minimal_json(json.loads(e))\n",
    "# cad_err._json()"
   ]
  },
  {
   "cell_type": "code",
   "execution_count": 13,
   "id": "f38ad3eb-51fe-4a38-90de-5dedab2f8432",
   "metadata": {},
   "outputs": [],
   "source": [
    "# e = '''\n",
    "# {\"final_shape\": \"\", \"parts\": {\"part_1\": {\"coordinate_system\": {\"Euler Angles\": [0.0, 0.0, 0.0], \"Translation Vector\": [0.0, 0.0, 0.0]}, \"sketch\": {\"face_1\": {\"loop_1\": {\"arc_1\": {\"Start Point\": [0.0, 0.025], \"Mid Point\": [0.007300000000000001, 0.007300000000000001], \"End Point\": [0.025, 0.0]}, \"line_1\": {\"Start Point\": [0.025, 0.0], \"End Point\": [0.725, 0.0]}, \"arc_2\": {\"Start Point\": [0.725, 0.0], \"Mid Point\": [0.725, 0.0484], \"End Point\": [0.75, 0.0484]}, \"line_2\": {\"Start Point\": [0.75, 0.0484], \"End Point\": [0.75, 0.45]}, \"arc_3\": {\"Start Point\": [0.75, 0.45], \"Mid Point\": [0.725, 0.45], \"End Point\": [0.725, 0.5]}, \"line_3\": {\"Start Point\": [0.725, 0.5], \"End Point\": [0.075, 0.5]}, \"arc_4\": {\"Start Point\": [0.075, 0.5], \"Mid Point\": [0.007300000000000001, 0.5007], \"End Point\": [0.0, 0.5007]}, \"line_4\": {\"Start Point\": [0.0, 0.5007], \"End Point\": [0.0, 0.025]}}}, \"face_2\": {\"loop_1\": {\"arc_1\": {\"Start Point\": [0.0, 0.025], \"Mid Point\": [0.007300000000000001, 0.007300000000000001], \"End Point\": [0.025, 0.0]}, \"line_1\": {\"Start Point\": [0.025, 0.0], \"End Point\": [0.725, 0.0]}, \"arc_2\": {\"Start Point\": [0.725, 0.0], \"Mid Point\": [0.725, 0.0484], \"End Point\": [0.75, 0.0484]}, \"line_2\": {\"Start Point\": [0.75, 0.0484], \"End Point\": [0.75, 0.45]}, \"arc_3\": {\"Start Point\": [0.75, 0.45], \"Mid Point\": [0.725, 0.45], \"End Point\": [0.725, 0.5]}, \"line_3\": {\"Start Point\": [0.725, 0.5], \"End Point\": [0.075, 0.5]}, \"arc_4\": {\"Start Point\": [0.075, 0.5], \"Mid Point\": [0.007300000000000001, 0.5007], \"End Point\": [0.0, 0.5007]}, \"line_4\": {\"Start Point\": [0.0, 0.5007], \"End Point\": [0.0, 0.025]}}}, \"face_3\": {\"loop_1\": {\"arc_1\": {\"Start Point\": [0.075, 0.05], \"Mid Point\": [0.007300000000000001, 0.007300000000000001], \"End Point\": [0.025, 0.05]}, \"line_1\": {\"Start Point\": [0.025, 0.05], \"End Point\": [0.725, 0.05]}, \"arc_2\": {\"Start Point\": [0.725, 0.05], \"Mid Point\": [0.725, 0.0484], \"End Point\": [0.75, 0.0484]}, \"line_2\": {\"Start Point\": [0.75, 0.0484], \"End Point\": [0.75, 0.45]}, \"arc_3\": {\"Start Point\": [0.75, 0.45], \"Mid Point\": [0.725, 0.45], \"End Point\": [0.725, 0.5]}, \"line_3\": {\"Start Point\": [0.725, 0.5], \"End Point\": [0.075, 0.5]}, \"arc_4\": {\"Start Point\": [0.075, 0.5], \"Mid Point\": [0.007300000000000001, 0.5007], \"End Point\": [0.0, 0.5007]}, \"line_4\": {\"Start Point\": [0.0, 0.5007], \"End Point\": [0.0, 0.025]}}}}, \"extrusion\": {\"extrude_depth_towards_normal\": 0.0005, \"extrude_depth_opposite_normal\": 0.0, \"sketch_scale\": 0.75, \"operation\": \"NewBodyFeatureOperation\"}, \"description\": {\"shape\": \"\", \"length\": 0.75, \"width\": 0.75, \"height\": 0.0005}}}}\n",
    "# '''\n",
    "# # cad_err = CADSequence.from_minimal_json(json.loads(e))\n",
    "# # cad_err.sample_points()"
   ]
  },
  {
   "cell_type": "code",
   "execution_count": 14,
   "id": "a279d172-966b-4b33-8bfa-dae4d6186c2a",
   "metadata": {},
   "outputs": [],
   "source": [
    "# output_data['0028/00289243']['expert']['pred_cad_vec'][0]._json()"
   ]
  },
  {
   "cell_type": "code",
   "execution_count": 15,
   "id": "f053058b-a4ad-43ce-98bc-5a98e18a6f3d",
   "metadata": {
    "scrolled": true
   },
   "outputs": [
    {
     "name": "stdout",
     "output_type": "stream",
     "text": [
      "JSONDecodeError: Expecting ',' delimiter: line 1 column 11507 (char 11506)  ----  0035/00353920\n",
      "JSONDecodeError: Expecting ',' delimiter: line 1 column 11524 (char 11523)  ----  0077/00778682\n",
      "JSONDecodeError: Expecting ',' delimiter: line 1 column 12280 (char 12279)  ----  0077/00774679\n",
      "Exception: Invalid Model  ----  0077/00779074\n",
      "JSONDecodeError: Expecting ',' delimiter: line 1 column 4862 (char 4861)  ----  0069/00697339\n",
      "JSONDecodeError: Expecting ',' delimiter: line 1 column 3376 (char 3375)  ----  0069/00697032\n",
      "JSONDecodeError: Expecting ',' delimiter: line 1 column 1137 (char 1136)  ----  0098/00981569\n",
      "JSONDecodeError: Expecting ',' delimiter: line 1 column 14174 (char 14173)  ----  0098/00985194\n",
      "JSONDecodeError: Extra data: line 1 column 4167 (char 4166)  ----  0098/00987045\n",
      "Exception: Invalid Model  ----  0098/00983119\n",
      "JSONDecodeError: Extra data: line 1 column 3302 (char 3301)  ----  0066/00662647\n",
      "Exception: Invalid Model  ----  0066/00669966\n",
      "JSONDecodeError: Extra data: line 1 column 3325 (char 3324)  ----  0066/00666410\n",
      "JSONDecodeError: Expecting ',' delimiter: line 1 column 13207 (char 13206)  ----  0066/00664811\n",
      "JSONDecodeError: Extra data: line 1 column 1459 (char 1458)  ----  0073/00732452\n",
      "JSONDecodeError: Expecting value: line 1 column 13037 (char 13036)  ----  0041/00413192\n",
      "JSONDecodeError: Expecting ',' delimiter: line 1 column 3213 (char 3212)  ----  0041/00415865\n",
      "Exception: Invalid Model  ----  0041/00411574\n",
      "JSONDecodeError: Expecting ',' delimiter: line 1 column 11392 (char 11391)  ----  0041/00410461\n",
      "TypeError: ufunc 'isfinite' not supported for the input types, and the inputs could not be safely coerced to any supported types according to the casting rule ''safe''  ----  0067/00671652\n",
      "JSONDecodeError: Expecting ',' delimiter: line 1 column 4688 (char 4687)  ----  0067/00672858\n",
      "JSONDecodeError: Extra data: line 1 column 1392 (char 1391)  ----  0067/00672972\n",
      "JSONDecodeError: Expecting value: line 1 column 13251 (char 13250)  ----  0056/00561497\n",
      "Exception: No Cad Model generated  ----  0056/00565459\n",
      "JSONDecodeError: Extra data: line 1 column 1487 (char 1486)  ----  0056/00569626\n",
      "JSONDecodeError: Extra data: line 1 column 1088 (char 1087)  ----  0011/00118022\n",
      "Exception: Invalid Model  ----  0011/00119563\n",
      "JSONDecodeError: Expecting ',' delimiter: line 1 column 13369 (char 13368)  ----  0050/00502640\n",
      "JSONDecodeError: Extra data: line 1 column 784 (char 783)  ----  0050/00503948\n",
      "JSONDecodeError: Expecting ',' delimiter: line 1 column 1503 (char 1502)  ----  0050/00503196\n",
      "JSONDecodeError: Expecting value: line 1 column 14091 (char 14090)  ----  0050/00503735\n",
      "JSONDecodeError: Extra data: line 1 column 1566 (char 1565)  ----  0050/00509963\n",
      "Exception: Invalid Model  ----  0092/00922887\n",
      "JSONDecodeError: Extra data: line 1 column 1236 (char 1235)  ----  0061/00615912\n",
      "Exception: No Cad Model generated  ----  0061/00614552\n",
      "JSONDecodeError: Expecting ',' delimiter: line 1 column 14198 (char 14197)  ----  0085/00856372\n",
      "JSONDecodeError: Extra data: line 1 column 1741 (char 1740)  ----  0007/00076762\n",
      "Exception: No Cad Model generated  ----  0007/00077685\n",
      "JSONDecodeError: Extra data: line 1 column 1480 (char 1479)  ----  0007/00070266\n",
      "JSONDecodeError: Extra data: line 1 column 1500 (char 1499)  ----  0010/00107150\n",
      "JSONDecodeError: Extra data: line 1 column 2197 (char 2196)  ----  0010/00101479\n",
      "JSONDecodeError: Expecting ',' delimiter: line 1 column 14222 (char 14221)  ----  0010/00106052\n",
      "Exception: No Cad Model generated  ----  0010/00109798\n",
      "JSONDecodeError: Expecting ',' delimiter: line 1 column 12071 (char 12070)  ----  0009/00094584\n",
      "ValueError: 'JoinBodyFeatureOperation' is not in list  ----  0009/00094071\n",
      "JSONDecodeError: Unterminated string starting at: line 1 column 12813 (char 12812)  ----  0009/00092425\n",
      "JSONDecodeError: Expecting ',' delimiter: line 1 column 11415 (char 11414)  ----  0013/00131893\n",
      "JSONDecodeError: Unterminated string starting at: line 1 column 13516 (char 13515)  ----  0013/00135198\n",
      "JSONDecodeError: Expecting ',' delimiter: line 1 column 3320 (char 3319)  ----  0013/00138880\n",
      "Exception: Invalid Model  ----  0033/00332657\n",
      "Exception: Invalid Model  ----  0033/00335459\n",
      "JSONDecodeError: Extra data: line 1 column 8849 (char 8848)  ----  0033/00331463\n",
      "JSONDecodeError: Expecting ',' delimiter: line 1 column 13795 (char 13794)  ----  0080/00804270\n",
      "JSONDecodeError: Expecting ',' delimiter: line 1 column 12985 (char 12984)  ----  0080/00805070\n",
      "Exception: Invalid Model  ----  0015/00154647\n",
      "Exception: Invalid Model  ----  0015/00155732\n",
      "Exception: Invalid Model  ----  0015/00152442\n",
      "Exception: Invalid Model  ----  0015/00152464\n",
      "JSONDecodeError: Expecting value: line 1 column 12854 (char 12853)  ----  0075/00757284\n",
      "JSONDecodeError: Expecting ',' delimiter: line 1 column 13371 (char 13370)  ----  0075/00755628\n",
      "JSONDecodeError: Unterminated string starting at: line 1 column 14412 (char 14411)  ----  0075/00756286\n",
      "Exception: No Cad Model generated  ----  0038/00380658\n",
      "JSONDecodeError: Extra data: line 1 column 3751 (char 3750)  ----  0038/00381706\n",
      "JSONDecodeError: Unterminated string starting at: line 1 column 11134 (char 11133)  ----  0028/00286360\n",
      "JSONDecodeError: Expecting ',' delimiter: line 1 column 11922 (char 11921)  ----  0028/00280782\n",
      "Exception: Invalid Model  ----  0028/00287949\n",
      "Exception: Invalid Model  ----  0028/00289243\n",
      "JSONDecodeError: Expecting ',' delimiter: line 1 column 12536 (char 12535)  ----  0048/00482997\n",
      "Exception: No Cad Model generated  ----  0048/00488757\n",
      "JSONDecodeError: Extra data: line 1 column 4010 (char 4009)  ----  0048/00486789\n",
      "TypeError: ufunc 'isfinite' not supported for the input types, and the inputs could not be safely coerced to any supported types according to the casting rule ''safe''  ----  0048/00480799\n",
      "JSONDecodeError: Extra data: line 1 column 814 (char 813)  ----  0059/00593559\n",
      "Exception: No Cad Model generated  ----  0059/00599865\n",
      "Exception: No Cad Model generated  ----  0059/00593679\n",
      "Exception: Invalid Model  ----  0001/00010111\n",
      "Exception: Invalid Model  ----  0001/00019677\n",
      "OSError: File not written to disk on path .temp_994193.stl  ----  0030/00308574\n",
      "Exception: Invalid Model  ----  0030/00302501\n",
      "JSONDecodeError: Extra data: line 1 column 2575 (char 2574)  ----  0030/00309630\n",
      "Exception: Invalid Model  ----  0046/00460112\n",
      "Exception: Invalid Model  ----  0046/00466567\n",
      "JSONDecodeError: Expecting ',' delimiter: line 1 column 12711 (char 12710)  ----  0046/00467407\n",
      "Exception: Invalid Model  ----  0046/00464754\n",
      "JSONDecodeError: Expecting ',' delimiter: line 1 column 12215 (char 12214)  ----  0046/00464083\n",
      "JSONDecodeError: Extra data: line 1 column 1591 (char 1590)  ----  0064/00642249\n",
      "Exception: Invalid Model  ----  0064/00646782\n",
      "JSONDecodeError: Expecting ',' delimiter: line 1 column 11271 (char 11270)  ----  0064/00648915\n",
      "Exception: Invalid Model  ----  0064/00640423\n",
      "JSONDecodeError: Expecting ',' delimiter: line 1 column 11924 (char 11923)  ----  0064/00642545\n",
      "Exception: Invalid Model  ----  0043/00439465\n",
      "JSONDecodeError: Expecting ',' delimiter: line 1 column 13103 (char 13102)  ----  0043/00437324\n",
      "JSONDecodeError: Extra data: line 1 column 1510 (char 1509)  ----  0043/00439642\n",
      "JSONDecodeError: Unterminated string starting at: line 1 column 10943 (char 10942)  ----  0043/00431698\n",
      "JSONDecodeError: Expecting ',' delimiter: line 1 column 13647 (char 13646)  ----  0031/00317942\n",
      "Exception: Invalid Model  ----  0031/00313102\n",
      "JSONDecodeError: Expecting ',' delimiter: line 1 column 1824 (char 1823)  ----  0031/00314355\n",
      "OSError: File not written to disk on path .temp_815160.stl  ----  0031/00314876\n",
      "JSONDecodeError: Extra data: line 1 column 3619 (char 3618)  ----  0076/00763349\n",
      "JSONDecodeError: Extra data: line 1 column 3095 (char 3094)  ----  0076/00763123\n",
      "JSONDecodeError: Expecting ',' delimiter: line 1 column 13743 (char 13742)  ----  0076/00765285\n",
      "JSONDecodeError: Extra data: line 1 column 1866 (char 1865)  ----  0018/00189501\n",
      "Exception: Invalid Model  ----  0068/00688915\n",
      "ValueError: 'JoinFeaturesOperation' is not in list  ----  0068/00682566\n",
      "JSONDecodeError: Expecting ',' delimiter: line 1 column 12358 (char 12357)  ----  0068/00687083\n",
      "Exception: No Cad Model generated  ----  0068/00685262\n",
      "Exception: Invalid Model  ----  0070/00708419\n",
      "JSONDecodeError: Expecting ',' delimiter: line 1 column 4178 (char 4177)  ----  0070/00709498\n",
      "JSONDecodeError: Expecting ',' delimiter: line 1 column 12566 (char 12565)  ----  0070/00702497\n",
      "JSONDecodeError: Extra data: line 1 column 3095 (char 3094)  ----  0070/00708433\n",
      "Exception: Invalid Model  ----  0070/00707599\n",
      "JSONDecodeError: Expecting ',' delimiter: line 1 column 11326 (char 11325)  ----  0070/00700509\n",
      "Exception: Invalid Model  ----  0070/00708740\n",
      "JSONDecodeError: Expecting value: line 1 column 13838 (char 13837)  ----  0070/00702891\n",
      "Exception: Invalid Model  ----  0017/00176282\n",
      "Exception: Invalid Model  ----  0017/00175470\n",
      "Exception: Invalid Model  ----  0017/00171573\n",
      "JSONDecodeError: Expecting ',' delimiter: line 1 column 9751 (char 9750)  ----  0017/00171008\n",
      "Exception: No Cad Model generated  ----  0017/00172416\n",
      "JSONDecodeError: Expecting ',' delimiter: line 1 column 2166 (char 2165)  ----  0017/00172043\n",
      "JSONDecodeError: Expecting ',' delimiter: line 1 column 11805 (char 11804)  ----  0017/00175105\n",
      "JSONDecodeError: Expecting ',' delimiter: line 1 column 11840 (char 11839)  ----  0037/00379459\n",
      "JSONDecodeError: Expecting ',' delimiter: line 1 column 13359 (char 13358)  ----  0037/00376788\n",
      "JSONDecodeError: Expecting ',' delimiter: line 1 column 2241 (char 2240)  ----  0037/00379407\n",
      "JSONDecodeError: Expecting value: line 1 column 11578 (char 11577)  ----  0037/00377725\n",
      "JSONDecodeError: Unterminated string starting at: line 1 column 12486 (char 12485)  ----  0036/00369938\n",
      "Exception: No Cad Model generated  ----  0036/00360141\n",
      "JSONDecodeError: Expecting ',' delimiter: line 1 column 12885 (char 12884)  ----  0036/00366820\n",
      "JSONDecodeError: Extra data: line 1 column 4318 (char 4317)  ----  0058/00586508\n",
      "JSONDecodeError: Extra data: line 1 column 2024 (char 2023)  ----  0058/00583958\n",
      "Exception: Invalid Model  ----  0004/00048546\n",
      "Exception: No Cad Model generated  ----  0004/00046872\n",
      "Exception: No Cad Model generated  ----  0004/00048739\n",
      "Exception: Invalid Model  ----  0005/00058464\n",
      "Exception: No Cad Model generated  ----  0005/00057626\n",
      "OSError: File not written to disk on path .temp_990297.stl  ----  0005/00053929\n",
      "JSONDecodeError: Extra data: line 1 column 1260 (char 1259)  ----  0042/00426847\n",
      "JSONDecodeError: Expecting ',' delimiter: line 1 column 13211 (char 13210)  ----  0042/00422253\n",
      "JSONDecodeError: Expecting ',' delimiter: line 1 column 13625 (char 13624)  ----  0081/00814033\n",
      "JSONDecodeError: Expecting ',' delimiter: line 1 column 12226 (char 12225)  ----  0081/00819594\n",
      "JSONDecodeError: Expecting ',' delimiter: line 1 column 13013 (char 13012)  ----  0081/00816234\n",
      "JSONDecodeError: Expecting ',' delimiter: line 1 column 300 (char 299)  ----  0002/00022077\n",
      "Exception: Invalid Model  ----  0002/00020942\n",
      "JSONDecodeError: Unterminated string starting at: line 1 column 13807 (char 13806)  ----  0049/00499286\n",
      "JSONDecodeError: Extra data: line 1 column 5027 (char 5026)  ----  0023/00236806\n",
      "JSONDecodeError: Extra data: line 1 column 1570 (char 1569)  ----  0023/00230439\n",
      "Exception: Invalid Model  ----  0023/00234771\n",
      "Exception: Invalid Model  ----  0023/00235955\n",
      "Exception: Invalid Model  ----  0023/00234945\n",
      "JSONDecodeError: Expecting value: line 1 column 1 (char 0)  ----  0023/00236015\n",
      "Exception: Invalid Model  ----  0023/00238360\n",
      "Exception: Invalid Model  ----  0023/00231710\n",
      "JSONDecodeError: Extra data: line 1 column 1467 (char 1466)  ----  0099/00995406\n",
      "JSONDecodeError: Expecting ',' delimiter: line 1 column 12731 (char 12730)  ----  0099/00992484\n",
      "TypeError: Wrong number or type of arguments for overloaded function 'new_BRepAlgoAPI_Cut'.\n",
      "  Possible C/C++ prototypes are:\n",
      "    BRepAlgoAPI_Cut::BRepAlgoAPI_Cut()\n",
      "    BRepAlgoAPI_Cut::BRepAlgoAPI_Cut(BOPAlgo_PaveFiller const &)\n",
      "    BRepAlgoAPI_Cut::BRepAlgoAPI_Cut(TopoDS_Shape const &,TopoDS_Shape const &,Message_ProgressRange const &)\n",
      "    BRepAlgoAPI_Cut::BRepAlgoAPI_Cut(TopoDS_Shape const &,TopoDS_Shape const &,BOPAlgo_PaveFiller const &,Standard_Boolean const,Message_ProgressRange const &)\n",
      "  ----  0099/00993187\n",
      "JSONDecodeError: Extra data: line 1 column 2448 (char 2447)  ----  0099/00998817\n",
      "Exception: Invalid Model  ----  0093/00936303\n",
      "JSONDecodeError: Extra data: line 1 column 2463 (char 2462)  ----  0034/00347841\n",
      "JSONDecodeError: Expecting ',' delimiter: line 1 column 12027 (char 12026)  ----  0034/00347615\n",
      "KeyError: 'end_point'  ----  0026/00269293\n",
      "Exception: Invalid Model  ----  0026/00267701\n",
      "JSONDecodeError: Expecting value: line 1 column 13061 (char 13060)  ----  0026/00263028\n",
      "JSONDecodeError: Unterminated string starting at: line 1 column 13205 (char 13204)  ----  0026/00261876\n",
      "JSONDecodeError: Unterminated string starting at: line 1 column 12314 (char 12313)  ----  0032/00320812\n",
      "Exception: Invalid Model  ----  0032/00321106\n",
      "JSONDecodeError: Expecting ',' delimiter: line 1 column 13292 (char 13291)  ----  0032/00322363\n",
      "Exception: No Cad Model generated  ----  0032/00328737\n",
      "JSONDecodeError: Extra data: line 1 column 1415 (char 1414)  ----  0032/00325388\n",
      "JSONDecodeError: Extra data: line 1 column 895 (char 894)  ----  0032/00322508\n",
      "Exception: No Cad Model generated  ----  0054/00541170\n",
      "JSONDecodeError: Extra data: line 1 column 1455 (char 1454)  ----  0054/00544019\n",
      "KeyError: 'end_point'  ----  0054/00544980\n",
      "JSONDecodeError: Expecting ',' delimiter: line 1 column 13806 (char 13805)  ----  0054/00549421\n",
      "OSError: File not written to disk on path .temp_623954.stl  ----  0054/00548213\n",
      "Exception: Invalid Model  ----  0054/00540570\n",
      "JSONDecodeError: Extra data: line 1 column 1587 (char 1586)  ----  0021/00212279\n",
      "Exception: Invalid Model  ----  0021/00218527\n",
      "JSONDecodeError: Expecting ',' delimiter: line 1 column 13145 (char 13144)  ----  0027/00279098\n",
      "JSONDecodeError: Expecting property name enclosed in double quotes: line 1 column 12049 (char 12048)  ----  0027/00272459\n",
      "JSONDecodeError: Expecting ',' delimiter: line 1 column 13071 (char 13070)  ----  0029/00291512\n",
      "JSONDecodeError: Expecting ',' delimiter: line 1 column 12201 (char 12200)  ----  0029/00290777\n",
      "JSONDecodeError: Extra data: line 1 column 4010 (char 4009)  ----  0029/00293717\n",
      "Exception: Invalid Model  ----  0029/00295219\n",
      "Exception: Invalid Model  ----  0029/00299643\n",
      "JSONDecodeError: Extra data: line 1 column 2102 (char 2101)  ----  0083/00832560\n",
      "KeyError: 'end_point'  ----  0083/00835792\n",
      "JSONDecodeError: Extra data: line 1 column 2545 (char 2544)  ----  0083/00836896\n",
      "JSONDecodeError: Extra data: line 1 column 2789 (char 2788)  ----  0063/00637545\n",
      "Exception: No Cad Model generated  ----  0063/00630851\n",
      "Exception: Invalid Model  ----  0063/00639885\n",
      "Exception: Invalid Model  ----  0063/00630782\n",
      "JSONDecodeError: Extra data: line 1 column 2603 (char 2602)  ----  0044/00442436\n",
      "Exception: Invalid Model  ----  0044/00449233\n",
      "Exception: Invalid Model  ----  0044/00443516\n",
      "Exception: Invalid Model  ----  0039/00398688\n",
      "Exception: Invalid Model  ----  0039/00396075\n",
      "JSONDecodeError: Unterminated string starting at: line 1 column 13410 (char 13409)  ----  0039/00392891\n",
      "Exception: No Cad Model generated  ----  0014/00147871\n",
      "Exception: Invalid Model  ----  0014/00142081\n",
      "Exception: Invalid Model  ----  0014/00142922\n",
      "JSONDecodeError: Expecting ',' delimiter: line 1 column 13077 (char 13076)  ----  0019/00191691\n",
      "JSONDecodeError: Expecting ',' delimiter: line 1 column 13302 (char 13301)  ----  0019/00194865\n",
      "Exception: Invalid Model  ----  0019/00192257\n",
      "JSONDecodeError: Extra data: line 1 column 1242 (char 1241)  ----  0072/00723439\n",
      "Exception: Invalid Model  ----  0052/00523198\n",
      "JSONDecodeError: Expecting value: line 1 column 11380 (char 11379)  ----  0052/00524355\n",
      "JSONDecodeError: Expecting value: line 1 column 13805 (char 13804)  ----  0052/00527292\n",
      "Exception: No Cad Model generated  ----  0045/00456735\n",
      "JSONDecodeError: Expecting value: line 1 column 13296 (char 13295)  ----  0045/00455623\n",
      "Exception: Invalid Model  ----  0045/00453026\n",
      "Exception: Invalid Model  ----  0045/00450980\n",
      "Exception: Invalid Model  ----  0051/00511725\n",
      "Exception: Invalid Model  ----  0051/00511440\n",
      "JSONDecodeError: Extra data: line 1 column 2309 (char 2308)  ----  0051/00517116\n",
      "JSONDecodeError: Extra data: line 1 column 3866 (char 3865)  ----  0006/00067561\n",
      "JSONDecodeError: Extra data: line 1 column 2051 (char 2050)  ----  0006/00061514\n",
      "Exception: Invalid Model  ----  0006/00061589\n",
      "JSONDecodeError: Expecting ',' delimiter: line 1 column 13379 (char 13378)  ----  0082/00825507\n",
      "JSONDecodeError: Expecting ',' delimiter: line 1 column 13514 (char 13513)  ----  0082/00821433\n",
      "Exception: No Cad Model generated  ----  0082/00824617\n",
      "JSONDecodeError: Unterminated string starting at: line 1 column 13737 (char 13736)  ----  0082/00827066\n",
      "JSONDecodeError: Expecting ',' delimiter: line 1 column 6356 (char 6355)  ----  0097/00973378\n",
      "JSONDecodeError: Expecting ',' delimiter: line 1 column 14185 (char 14184)  ----  0097/00975187\n",
      "TypeError: ufunc 'isfinite' not supported for the input types, and the inputs could not be safely coerced to any supported types according to the casting rule ''safe''  ----  0097/00979943\n",
      "TypeError: Wrong number or type of arguments for overloaded function 'new_BRepAlgoAPI_Cut'.\n",
      "  Possible C/C++ prototypes are:\n",
      "    BRepAlgoAPI_Cut::BRepAlgoAPI_Cut()\n",
      "    BRepAlgoAPI_Cut::BRepAlgoAPI_Cut(BOPAlgo_PaveFiller const &)\n",
      "    BRepAlgoAPI_Cut::BRepAlgoAPI_Cut(TopoDS_Shape const &,TopoDS_Shape const &,Message_ProgressRange const &)\n",
      "    BRepAlgoAPI_Cut::BRepAlgoAPI_Cut(TopoDS_Shape const &,TopoDS_Shape const &,BOPAlgo_PaveFiller const &,Standard_Boolean const,Message_ProgressRange const &)\n",
      "  ----  0022/00221963\n",
      "Exception: Invalid Model  ----  0071/00718514\n",
      "JSONDecodeError: Expecting ',' delimiter: line 1 column 13268 (char 13267)  ----  0071/00713363\n",
      "KeyError: 'end_point'  ----  0071/00714815\n",
      "JSONDecodeError: Expecting ',' delimiter: line 1 column 11148 (char 11147)  ----  0095/00954903\n",
      "JSONDecodeError: Extra data: line 1 column 2783 (char 2782)  ----  0095/00952257\n",
      "Exception: Invalid Model  ----  0095/00952806\n",
      "JSONDecodeError: Extra data: line 1 column 2940 (char 2939)  ----  0095/00959441\n",
      "JSONDecodeError: Extra data: line 1 column 1076 (char 1075)  ----  0095/00955278\n",
      "Exception: Invalid Model  ----  0074/00743393\n",
      "JSONDecodeError: Expecting value: line 1 column 12644 (char 12643)  ----  0074/00745875\n",
      "KeyError: 'end_point'  ----  0074/00741471\n",
      "TypeError: Wrong number or type of arguments for overloaded function 'new_BRepAlgoAPI_Cut'.\n",
      "  Possible C/C++ prototypes are:\n",
      "    BRepAlgoAPI_Cut::BRepAlgoAPI_Cut()\n",
      "    BRepAlgoAPI_Cut::BRepAlgoAPI_Cut(BOPAlgo_PaveFiller const &)\n",
      "    BRepAlgoAPI_Cut::BRepAlgoAPI_Cut(TopoDS_Shape const &,TopoDS_Shape const &,Message_ProgressRange const &)\n",
      "    BRepAlgoAPI_Cut::BRepAlgoAPI_Cut(TopoDS_Shape const &,TopoDS_Shape const &,BOPAlgo_PaveFiller const &,Standard_Boolean const,Message_ProgressRange const &)\n",
      "  ----  0074/00745781\n",
      "Exception: No Cad Model generated  ----  0074/00747189\n",
      "JSONDecodeError: Expecting ',' delimiter: line 1 column 2012 (char 2011)  ----  0055/00553493\n",
      "JSONDecodeError: Expecting property name enclosed in double quotes: line 1 column 13102 (char 13101)  ----  0055/00557779\n",
      "JSONDecodeError: Expecting ',' delimiter: line 1 column 1805 (char 1804)  ----  0055/00550837\n",
      "JSONDecodeError: Unterminated string starting at: line 1 column 12189 (char 12188)  ----  0084/00848345\n",
      "JSONDecodeError: Extra data: line 1 column 2907 (char 2906)  ----  0084/00840120\n",
      "Exception: Invalid Model  ----  0008/00081485\n",
      "JSONDecodeError: Extra data: line 1 column 1370 (char 1369)  ----  0008/00082679\n",
      "JSONDecodeError: Extra data: line 1 column 1244 (char 1243)  ----  0024/00241862\n",
      "Exception: No Cad Model generated  ----  0024/00248214\n",
      "JSONDecodeError: Expecting ',' delimiter: line 1 column 12135 (char 12134)  ----  0024/00241104\n",
      "JSONDecodeError: Expecting ',' delimiter: line 1 column 11109 (char 11108)  ----  0024/00240959\n",
      "Exception: Invalid Model  ----  0024/00241762\n",
      "Exception: Invalid Model  ----  0024/00249439\n",
      "JSONDecodeError: Expecting ',' delimiter: line 1 column 11098 (char 11097)  ----  0057/00578652\n",
      "JSONDecodeError: Expecting ',' delimiter: line 1 column 3459 (char 3458)  ----  0057/00571486\n",
      "JSONDecodeError: Expecting ',' delimiter: line 1 column 1439 (char 1438)  ----  0057/00579141\n",
      "JSONDecodeError: Extra data: line 1 column 2971 (char 2970)  ----  0057/00573334\n",
      "JSONDecodeError: Expecting ',' delimiter: line 1 column 13083 (char 13082)  ----  0057/00571493\n",
      "Exception: Invalid Model  ----  0096/00962888\n",
      "Exception: Invalid Model  ----  0096/00968854\n",
      "JSONDecodeError: Expecting ',' delimiter: line 1 column 12709 (char 12708)  ----  0096/00965632\n",
      "Exception: Invalid Model  ----  0096/00966577\n",
      "Exception: Invalid Model  ----  0003/00032795\n",
      "JSONDecodeError: Expecting ',' delimiter: line 1 column 2264 (char 2263)  ----  0003/00039347\n",
      "JSONDecodeError: Extra data: line 1 column 751 (char 750)  ----  0003/00033968\n",
      "Exception: Invalid Model  ----  0012/00121343\n",
      "Exception: Invalid Model  ----  0012/00129614\n",
      "JSONDecodeError: Expecting value: line 1 column 11012 (char 11011)  ----  0012/00120829\n",
      "JSONDecodeError: Expecting ',' delimiter: line 1 column 12074 (char 12073)  ----  0012/00124635\n",
      "Exception: Invalid Model  ----  0012/00126326\n",
      "Exception: Invalid Model  ----  0065/00653226\n",
      "JSONDecodeError: Extra data: line 1 column 2610 (char 2609)  ----  0065/00654147\n",
      "Exception: Invalid Model  ----  0065/00657352\n",
      "OSError: File not written to disk on path .temp_628513.stl  ----  0025/00255020\n",
      "Exception: No Cad Model generated  ----  0025/00254881\n",
      "Exception: Invalid Model  ----  0025/00256712\n",
      "JSONDecodeError: Expecting ',' delimiter: line 1 column 13037 (char 13036)  ----  0025/00258356\n",
      "JSONDecodeError: Extra data: line 1 column 1566 (char 1565)  ----  0025/00257817\n",
      "JSONDecodeError: Extra data: line 1 column 5097 (char 5096)  ----  0025/00256514\n",
      "JSONDecodeError: Expecting value: line 1 column 13772 (char 13771)  ----  0047/00476531\n",
      "JSONDecodeError: Extra data: line 1 column 2210 (char 2209)  ----  0047/00476513\n",
      "JSONDecodeError: Expecting ',' delimiter: line 1 column 10714 (char 10713)  ----  0047/00474918\n",
      "JSONDecodeError: Extra data: line 1 column 8091 (char 8090)  ----  0047/00475181\n",
      "JSONDecodeError: Expecting ',' delimiter: line 1 column 2401 (char 2400)  ----  0091/00918811\n",
      "Exception: Invalid Model  ----  0091/00916309\n",
      "Exception: Invalid Model  ----  0020/00206121\n",
      "TypeError: ufunc 'isfinite' not supported for the input types, and the inputs could not be safely coerced to any supported types according to the casting rule ''safe''  ----  0078/00781690\n",
      "JSONDecodeError: Expecting ',' delimiter: line 1 column 11580 (char 11579)  ----  0016/00162320\n",
      "Exception: Invalid Model  ----  0016/00164246\n",
      "Exception: Invalid Model  ----  0016/00166398\n",
      "Exception: No Cad Model generated  ----  0016/00166659\n",
      "Exception: Invalid Model  ----  0016/00160991\n",
      "JSONDecodeError: Expecting property name enclosed in double quotes: line 1 column 13455 (char 13454)  ----  0016/00161544\n",
      "JSONDecodeError: Expecting ',' delimiter: line 1 column 12463 (char 12462)  ----  0016/00162458\n",
      "Exception: Invalid Model  ----  0062/00621460\n",
      "JSONDecodeError: Extra data: line 1 column 1428 (char 1427)  ----  0062/00622558\n",
      "Exception: Invalid Model  ----  0062/00624734\n",
      "Exception: Invalid Model  ----  0062/00626143\n",
      "Exception: Invalid Model  ----  0062/00628109\n",
      "Exception: Invalid Model  ----  0062/00629059\n",
      "Exception: Invalid Model  ----  0040/00406977\n",
      "JSONDecodeError: Expecting ',' delimiter: line 1 column 13173 (char 13172)  ----  0086/00869061\n",
      "Exception: Invalid Model  ----  0086/00860327\n",
      "JSONDecodeError: Expecting value: line 1 column 14209 (char 14208)  ----  0086/00868604\n",
      "Exception: Invalid Model  ----  0087/00871486\n",
      "Exception: Invalid Model  ----  0088/00882328\n",
      "JSONDecodeError: Extra data: line 1 column 2320 (char 2319)  ----  0088/00881657\n",
      "Exception: Invalid Model  ----  0088/00881862\n",
      "JSONDecodeError: Unterminated string starting at: line 1 column 12402 (char 12401)  ----  0088/00883160\n",
      "Exception: Invalid Model  ----  0088/00882538\n",
      "Exception: Invalid Model  ----  0089/00891411\n",
      "JSONDecodeError: Expecting property name enclosed in double quotes: line 1 column 12212 (char 12211)  ----  0089/00899797\n",
      "Exception: Invalid Model  ----  0090/00900241\n"
     ]
    }
   ],
   "source": [
    "from collections import defaultdict\n",
    "\n",
    "x = 0\n",
    "err_xx = defaultdict(list)\n",
    "\n",
    "for sample in error_samples:\n",
    "    try:\n",
    "        json_cad = json.loads(sample['predicted_output'])\n",
    "        cad = ff(fix_cad_json(clean_json(json_cad)))\n",
    "        cad = CADSequence.from_minimal_json(cad)\n",
    "        cad.sample_points()\n",
    "    except Exception as e:\n",
    "        x += 1\n",
    "        error_type = f\"{type(e).__name__}: {str(e)}\"\n",
    "        err_xx[error_type].append(sample['uid'])\n",
    "        print(error_type, ' ---- ', sample['uid'])\n",
    "\n",
    "# print(x)\n",
    "# print(len(error_samples))"
   ]
  },
  {
   "cell_type": "code",
   "execution_count": 16,
   "id": "78f3905c-7dfd-4ae9-8712-512217c0dd5a",
   "metadata": {
    "scrolled": true
   },
   "outputs": [
    {
     "name": "stdout",
     "output_type": "stream",
     "text": [
      "310   318\n"
     ]
    }
   ],
   "source": [
    "print(x, ' ', len(error_samples))"
   ]
  },
  {
   "cell_type": "code",
   "execution_count": 17,
   "id": "591cc442-e992-493a-8c72-0ded733c5559",
   "metadata": {},
   "outputs": [
    {
     "name": "stdout",
     "output_type": "stream",
     "text": [
      "??\n"
     ]
    }
   ],
   "source": [
    "# # y = data['0025/00254881']['expert']['pred_cad_vec'][0]._json()\n",
    "# # y\n",
    "for j in data:\n",
    "    if j['uid'] =='0035/00350196':\n",
    "        err = j['predicted_output']\n",
    "        jxxx = j\n",
    "        print('??')\n",
    "        break"
   ]
  },
  {
   "cell_type": "code",
   "execution_count": 18,
   "id": "928f475f-2f66-4323-b68a-37e316537362",
   "metadata": {},
   "outputs": [
    {
     "ename": "NameError",
     "evalue": "name 'cad_err' is not defined",
     "output_type": "error",
     "traceback": [
      "\u001b[1;31m---------------------------------------------------------------------------\u001b[0m",
      "\u001b[1;31mNameError\u001b[0m                                 Traceback (most recent call last)",
      "Cell \u001b[1;32mIn[18], line 1\u001b[0m\n\u001b[1;32m----> 1\u001b[0m \u001b[43mcad_err\u001b[49m\u001b[38;5;241m.\u001b[39mpoints\n",
      "\u001b[1;31mNameError\u001b[0m: name 'cad_err' is not defined"
     ]
    }
   ],
   "source": [
    "cad_err.points"
   ]
  },
  {
   "cell_type": "code",
   "execution_count": null,
   "id": "c58327b6-c9e5-4a6c-ba5d-120d8bb89d72",
   "metadata": {},
   "outputs": [],
   "source": [
    "cad_err = CADSequence.from_minimal_json(clean_json(json.loads(err)))\n",
    "cad_err.sample_points()\n",
    "gt = CADSequence.from_minimal_json(json.loads(jxxx['ground_truth_output']))\n",
    "gt.sample_points()\n",
    "\n",
    "cd = (\n",
    "    chamfer_dist(\n",
    "        normalize_pc(gt_cad.points),\n",
    "        normalize_pc(pred_cad.points),\n",
    "    )\n",
    "    * 1000\n",
    ")\n",
    "print(cd)"
   ]
  },
  {
   "cell_type": "code",
   "execution_count": null,
   "id": "e22355ac-4f30-4c06-9091-ab2d82c498a2",
   "metadata": {
    "scrolled": true
   },
   "outputs": [],
   "source": [
    "# cad_err = fix_json_cad(json.loads(err))\n",
    "cad_err = json.loads(err)\n",
    "# cad_err = err\n",
    "cad_err = CADSequence.from_minimal_json(cad_err)\n",
    "cad_err.sample_points()\n",
    "\n",
    "gt = CADSequence.from_minimal_json(json.loads(jxxx['ground_truth_output']))\n",
    "gt.sample_points()\n",
    "\n",
    "cd = (\n",
    "    chamfer_dist(\n",
    "        normalize_pc(gt_cad.points),\n",
    "        normalize_pc(pred_cad.points),\n",
    "    )\n",
    "    * 1000\n",
    ")\n",
    "print(cd)"
   ]
  },
  {
   "cell_type": "code",
   "execution_count": null,
   "id": "59a38697-714b-4b5d-8bac-41b1b93c56a1",
   "metadata": {
    "scrolled": true
   },
   "outputs": [],
   "source": [
    "# cleaned_data = fix_cad_json(json.loads(e))\n",
    "# cleaned_data"
   ]
  },
  {
   "cell_type": "code",
   "execution_count": null,
   "id": "cea84c10-803d-49fd-ba21-fa5b8ef95170",
   "metadata": {},
   "outputs": [],
   "source": [
    "# cad_err = CADSequence.from_minimal_json(cleaned_data)\n",
    "# c = cad_err.sample_points()"
   ]
  },
  {
   "cell_type": "code",
   "execution_count": 2,
   "id": "1debb1ec-44b6-4bad-a735-a33e85db5eb6",
   "metadata": {},
   "outputs": [],
   "source": [
    "dataset = load_dataset(\"TruongSinhAI/DEEPCAD-Text2Json-EnVi\")"
   ]
  },
  {
   "cell_type": "code",
   "execution_count": 3,
   "id": "c8faea97-74b9-4f3c-9d19-aef742e3bf4e",
   "metadata": {},
   "outputs": [
    {
     "data": {
      "text/plain": [
       "DatasetDict({\n",
       "    train_en: Dataset({\n",
       "        features: ['uid', 'input', 'output', 'prompt'],\n",
       "        num_rows: 155783\n",
       "    })\n",
       "    train_vi: Dataset({\n",
       "        features: ['uid', 'input', 'output', 'prompt'],\n",
       "        num_rows: 155783\n",
       "    })\n",
       "    val_en: Dataset({\n",
       "        features: ['uid', 'input', 'output', 'prompt'],\n",
       "        num_rows: 8814\n",
       "    })\n",
       "    val_vi: Dataset({\n",
       "        features: ['uid', 'input', 'output', 'prompt'],\n",
       "        num_rows: 8814\n",
       "    })\n",
       "    test_en: Dataset({\n",
       "        features: ['uid', 'input', 'output', 'prompt'],\n",
       "        num_rows: 7924\n",
       "    })\n",
       "    test_vi: Dataset({\n",
       "        features: ['uid', 'input', 'output', 'prompt'],\n",
       "        num_rows: 7924\n",
       "    })\n",
       "    subset1000_en: Dataset({\n",
       "        features: ['uid', 'input', 'output', 'prompt'],\n",
       "        num_rows: 1000\n",
       "    })\n",
       "    subset1000_vi: Dataset({\n",
       "        features: ['uid', 'input', 'output', 'prompt'],\n",
       "        num_rows: 1000\n",
       "    })\n",
       "})"
      ]
     },
     "execution_count": 3,
     "metadata": {},
     "output_type": "execute_result"
    }
   ],
   "source": [
    "dataset"
   ]
  },
  {
   "cell_type": "code",
   "execution_count": 4,
   "id": "aa0ba614-e243-4477-b8b9-0461cb2925dd",
   "metadata": {
    "scrolled": true
   },
   "outputs": [
    {
     "name": "stderr",
     "output_type": "stream",
     "text": [
      "100%|████████████████████████████████████████████████████████████████████████| 155783/155783 [1:13:28<00:00, 35.33it/s]\n",
      "100%|██████████████████████████████████████████████████████████████████████████████| 8814/8814 [03:50<00:00, 38.25it/s]\n",
      "100%|██████████████████████████████████████████████████████████████████████████████| 7924/7924 [03:40<00:00, 35.94it/s]\n"
     ]
    }
   ],
   "source": [
    "from tqdm import tqdm\n",
    "errors = {}\n",
    "for split in ['train_en', 'val_en', 'test_en']:\n",
    "    errors[split] = []\n",
    "    for sample in tqdm(dataset[split]):\n",
    "        uid = sample['uid']\n",
    "        output = sample['output']\n",
    "        try:\n",
    "            g = CADSequence.from_minimal_json(json.loads(output.replace(\"'\", '\"'))).create_cad_model()\n",
    "        except Exception as e:\n",
    "            errors[split].append(uid)\n"
   ]
  },
  {
   "cell_type": "code",
   "execution_count": 6,
   "id": "2f0f8b3d-684f-49dd-ae3e-e8fa53cafc79",
   "metadata": {},
   "outputs": [
    {
     "name": "stdout",
     "output_type": "stream",
     "text": [
      "train_en  :  373\n",
      "val_en  :  14\n",
      "test_en  :  14\n"
     ]
    }
   ],
   "source": [
    "for split in errors:\n",
    "    print(split, ' : ', len(errors[split]))"
   ]
  },
  {
   "cell_type": "code",
   "execution_count": 8,
   "id": "84f88eb5-843c-42db-8dd5-9b78df7ecaa3",
   "metadata": {},
   "outputs": [
    {
     "name": "stderr",
     "output_type": "stream",
     "text": [
      "100%|███████████████████████████████████████████████████████████████████████| 155783/155783 [00:14<00:00, 10569.44it/s]\n",
      "100%|███████████████████████████████████████████████████████████████████████████| 8814/8814 [00:00<00:00, 15519.28it/s]\n",
      "100%|███████████████████████████████████████████████████████████████████████████| 7924/7924 [00:00<00:00, 14282.08it/s]\n"
     ]
    }
   ],
   "source": [
    "x = set()\n",
    "for split in ['train_en', 'val_en', 'test_en']:\n",
    "    for sample in tqdm(dataset[split]):\n",
    "        uid = sample['uid']\n",
    "        if uid in errors[split]:\n",
    "            output = sample['output']\n",
    "            try:\n",
    "                g = CADSequence.from_minimal_json(json.loads(output.replace(\"'\", '\"'))).create_cad_model()\n",
    "            except Exception as e:\n",
    "                x.add(e)"
   ]
  },
  {
   "cell_type": "code",
   "execution_count": 7,
   "id": "e04831d9-6fb8-44a3-9997-5f4a96e43240",
   "metadata": {},
   "outputs": [],
   "source": [
    "with open(\"errors.json\", \"w\", encoding=\"utf-8\") as f:\n",
    "    json.dump(errors, f, ensure_ascii=False, indent=4)"
   ]
  }
 ],
 "metadata": {
  "kernelspec": {
   "display_name": "Python (Cad)",
   "language": "python",
   "name": "cad"
  },
  "language_info": {
   "codemirror_mode": {
    "name": "ipython",
    "version": 3
   },
   "file_extension": ".py",
   "mimetype": "text/x-python",
   "name": "python",
   "nbconvert_exporter": "python",
   "pygments_lexer": "ipython3",
   "version": "3.9.21"
  }
 },
 "nbformat": 4,
 "nbformat_minor": 5
}
