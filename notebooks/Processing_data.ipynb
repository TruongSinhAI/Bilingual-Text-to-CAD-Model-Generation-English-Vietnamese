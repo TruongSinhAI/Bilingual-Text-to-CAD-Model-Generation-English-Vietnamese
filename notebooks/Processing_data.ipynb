{
 "cells": [
  {
   "cell_type": "code",
   "execution_count": 1,
   "id": "aaa45d39-400f-4c68-b6c7-cbd4f51e229b",
   "metadata": {},
   "outputs": [],
   "source": [
    "import sys\n",
    "import os\n",
    "\n",
    "# Giả sử bạn đang ở: /path/to/projects/notebooks\n",
    "# Ta thêm thư mục Text2CAD vào sys.path\n",
    "project_root = os.path.abspath(os.path.join(os.getcwd(), '../Text2CAD'))\n",
    "sys.path.append(project_root)\n"
   ]
  },
  {
   "cell_type": "code",
   "execution_count": 2,
   "id": "4d69d172-6370-46dc-ba6c-597e004f7b9e",
   "metadata": {},
   "outputs": [],
   "source": [
    "from datasets import load_dataset, DatasetDict\n",
    "import json\n",
    "from CadSeqProc.cad_sequence import CADSequence\n",
    "from CadSeqProc.utility.utils import normalize_pc, chamfer_dist\n",
    "from CadSeqProc.utility.utils import (create_path_with_time,ensure_dir)"
   ]
  },
  {
   "cell_type": "code",
   "execution_count": 3,
   "id": "4950fa49-0824-47ae-974d-eb4ad23b9ad7",
   "metadata": {},
   "outputs": [],
   "source": [
    "dataset = load_dataset(\"TruongSinhAI/DEEPCAD-Text2Json-EnVi\")"
   ]
  },
  {
   "cell_type": "markdown",
   "id": "6b971327-c8d3-433f-bda0-d9696169c354",
   "metadata": {
    "jp-MarkdownHeadingCollapsed": true
   },
   "source": [
    "## Text cleaning and preprocessing"
   ]
  },
  {
   "cell_type": "code",
   "execution_count": 1,
   "id": "ccde219d-4197-48e0-bfd5-36a02c1b6c8b",
   "metadata": {},
   "outputs": [],
   "source": [
    "import re\n",
    "def clean_text(example):\n",
    "    def process(text):\n",
    "        text = re.sub(r'[-=#]{3,}', '', text)\n",
    "        text = re.sub(r'\\n+', ' ', text)        \n",
    "        text = re.sub(r'\\s+', ' ', text)        \n",
    "        return text.strip()\n",
    "        \n",
    "    def round_numbers_in_text(text, decimal_places=4):\n",
    "        def repl(match):\n",
    "            num = float(match.group())\n",
    "            return str(round(num, decimal_places))\n",
    "        return re.sub(r\"\\d+\\.\\d+\", repl, text)\n",
    "\n",
    "    example['output'] = round_numbers_in_text(process(example['output']))\n",
    "    return example"
   ]
  },
  {
   "cell_type": "markdown",
   "id": "bd87a93f-64a5-4ad2-8c80-e7572e5e55dd",
   "metadata": {},
   "source": [
    "## REMOVE 'description' and 'final_shape'. Because redundant."
   ]
  },
  {
   "cell_type": "code",
   "execution_count": 16,
   "id": "a628caf3-cdfa-42bc-840a-9a654a755fbc",
   "metadata": {},
   "outputs": [],
   "source": [
    "def optimize(old):\n",
    "    old_dict = json.loads(old)\n",
    "    old_dict.pop('final_shape', None)\n",
    "\n",
    "    # Duyệt qua các part và xóa khóa 'description' nếu có\n",
    "    if 'parts' in old_dict:\n",
    "        for part in old_dict['parts'].values():\n",
    "            part.pop('description', None)\n",
    "\n",
    "    return old_dict\n"
   ]
  },
  {
   "cell_type": "code",
   "execution_count": 26,
   "id": "7b10cca3-01dc-4a1b-9be0-0bc5b036028e",
   "metadata": {},
   "outputs": [],
   "source": [
    "def apply_optimize(example):\n",
    "    example['output'] = str(optimize(example['output']))\n",
    "    return example"
   ]
  },
  {
   "cell_type": "code",
   "execution_count": 27,
   "id": "f500baf3-fb1c-4d1a-b911-bd32ec742545",
   "metadata": {},
   "outputs": [
    {
     "data": {
      "application/vnd.jupyter.widget-view+json": {
       "model_id": "a52c0f2f550c4a33aff8b2192f831e86",
       "version_major": 2,
       "version_minor": 0
      },
      "text/plain": [
       "Map:   0%|          | 0/155783 [00:00<?, ? examples/s]"
      ]
     },
     "metadata": {},
     "output_type": "display_data"
    },
    {
     "data": {
      "application/vnd.jupyter.widget-view+json": {
       "model_id": "eb82b4e69caf43ed9c5f365ed844370e",
       "version_major": 2,
       "version_minor": 0
      },
      "text/plain": [
       "Map:   0%|          | 0/155783 [00:00<?, ? examples/s]"
      ]
     },
     "metadata": {},
     "output_type": "display_data"
    },
    {
     "data": {
      "application/vnd.jupyter.widget-view+json": {
       "model_id": "4eabc6c54d28486684cacefd3f4d550d",
       "version_major": 2,
       "version_minor": 0
      },
      "text/plain": [
       "Map:   0%|          | 0/8814 [00:00<?, ? examples/s]"
      ]
     },
     "metadata": {},
     "output_type": "display_data"
    },
    {
     "data": {
      "application/vnd.jupyter.widget-view+json": {
       "model_id": "87d51a2e5e18488bafe23be21a4f6915",
       "version_major": 2,
       "version_minor": 0
      },
      "text/plain": [
       "Map:   0%|          | 0/8814 [00:00<?, ? examples/s]"
      ]
     },
     "metadata": {},
     "output_type": "display_data"
    },
    {
     "data": {
      "application/vnd.jupyter.widget-view+json": {
       "model_id": "47bc4c03baa24a699913407157dc7f57",
       "version_major": 2,
       "version_minor": 0
      },
      "text/plain": [
       "Map:   0%|          | 0/7924 [00:00<?, ? examples/s]"
      ]
     },
     "metadata": {},
     "output_type": "display_data"
    },
    {
     "data": {
      "application/vnd.jupyter.widget-view+json": {
       "model_id": "6b41d189f20c450cb341bac3a3497b91",
       "version_major": 2,
       "version_minor": 0
      },
      "text/plain": [
       "Map:   0%|          | 0/7924 [00:00<?, ? examples/s]"
      ]
     },
     "metadata": {},
     "output_type": "display_data"
    },
    {
     "data": {
      "application/vnd.jupyter.widget-view+json": {
       "model_id": "29d1f80185f94b2db1b744e6a4d97745",
       "version_major": 2,
       "version_minor": 0
      },
      "text/plain": [
       "Map:   0%|          | 0/1000 [00:00<?, ? examples/s]"
      ]
     },
     "metadata": {},
     "output_type": "display_data"
    },
    {
     "data": {
      "application/vnd.jupyter.widget-view+json": {
       "model_id": "0ba87f6aef2249308464955842ba6e92",
       "version_major": 2,
       "version_minor": 0
      },
      "text/plain": [
       "Map:   0%|          | 0/1000 [00:00<?, ? examples/s]"
      ]
     },
     "metadata": {},
     "output_type": "display_data"
    }
   ],
   "source": [
    "dataset = DatasetDict({\n",
    "    k: v.map(apply_optimize) for k, v in dataset.items()\n",
    "})"
   ]
  },
  {
   "cell_type": "code",
   "execution_count": null,
   "id": "4b0e2ff3-28f2-4c68-a3b3-0b15f2974234",
   "metadata": {},
   "outputs": [],
   "source": [
    "# from huggingface_hub import HfApi\n",
    "\n",
    "# repo_id = \"TruongSinhAI/DEEPCAD-Text2Json-EnVi\"\n",
    "# token = \"token\"  \n",
    "\n",
    "# dataset.push_to_hub(repo_id, private=False, token=token)"
   ]
  },
  {
   "cell_type": "markdown",
   "id": "2ed9e61d-23b6-41fe-b7c6-0c9c6602f4a0",
   "metadata": {},
   "source": [
    "## Check validation of output"
   ]
  },
  {
   "cell_type": "code",
   "execution_count": null,
   "id": "ee8042ef-815c-4722-8890-e84200437365",
   "metadata": {},
   "outputs": [],
   "source": [
    "from tqdm import tqdm\n",
    "errors = {}\n",
    "for split in ['train_en', 'val_en', 'test_en']:\n",
    "    errors[split] = []\n",
    "    for sample in tqdm(dataset[split]):\n",
    "        uid = sample['uid']\n",
    "        output = sample['output']\n",
    "        try:\n",
    "            g = CADSequence.from_minimal_json(json.loads(output.replace(\"'\", '\"'))).create_cad_model()\n",
    "        except Exception as e:\n",
    "            errors[split].append(uid)\n"
   ]
  },
  {
   "cell_type": "code",
   "execution_count": null,
   "id": "70b6805d-5d4e-41b0-a21b-28fdfb19ec7f",
   "metadata": {},
   "outputs": [],
   "source": [
    "for split in errors:\n",
    "    print(split, ' : ', len(errors[split]))"
   ]
  }
 ],
 "metadata": {
  "kernelspec": {
   "display_name": "Python (Cad)",
   "language": "python",
   "name": "cad"
  },
  "language_info": {
   "codemirror_mode": {
    "name": "ipython",
    "version": 3
   },
   "file_extension": ".py",
   "mimetype": "text/x-python",
   "name": "python",
   "nbconvert_exporter": "python",
   "pygments_lexer": "ipython3",
   "version": "3.9.21"
  }
 },
 "nbformat": 4,
 "nbformat_minor": 5
}
